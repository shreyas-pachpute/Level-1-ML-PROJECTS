{
 "cells": [
  {
   "cell_type": "code",
   "execution_count": 19,
   "id": "4bb03dfd",
   "metadata": {
    "ExecuteTime": {
     "end_time": "2023-11-15T07:59:49.032922Z",
     "start_time": "2023-11-15T07:59:46.606389Z"
    }
   },
   "outputs": [],
   "source": [
    "# Import the required libraries\n",
    "\n",
    "import pandas as pd\n",
    "import numpy as np\n",
    "import datetime as dt\n",
    "import matplotlib.pyplot as plt\n",
    "import seaborn as sns\n",
    "\n",
    "import sklearn\n",
    "from sklearn.preprocessing import StandardScaler\n",
    "from sklearn.cluster import KMeans\n",
    "from sklearn import metrics"
   ]
  },
  {
   "cell_type": "code",
   "execution_count": 2,
   "id": "28157e93",
   "metadata": {
    "ExecuteTime": {
     "end_time": "2023-11-15T07:59:00.093921Z",
     "start_time": "2023-11-15T07:58:57.666935Z"
    }
   },
   "outputs": [],
   "source": [
    "# Load the data\n",
    "\n",
    "df = pd.read_csv(r\"C:\\Users\\HP PC\\Desktop\\dl1\\DATA SCIENCE COURSE\\PRACTICE\\Fugetron\\cltv\\customer_purchases.csv\")"
   ]
  },
  {
   "cell_type": "code",
   "execution_count": 3,
   "id": "7c33c710",
   "metadata": {
    "ExecuteTime": {
     "end_time": "2023-11-15T07:59:01.261803Z",
     "start_time": "2023-11-15T07:59:01.008429Z"
    }
   },
   "outputs": [
    {
     "data": {
      "text/html": [
       "<div>\n",
       "<style scoped>\n",
       "    .dataframe tbody tr th:only-of-type {\n",
       "        vertical-align: middle;\n",
       "    }\n",
       "\n",
       "    .dataframe tbody tr th {\n",
       "        vertical-align: top;\n",
       "    }\n",
       "\n",
       "    .dataframe thead th {\n",
       "        text-align: right;\n",
       "    }\n",
       "</style>\n",
       "<table border=\"1\" class=\"dataframe\">\n",
       "  <thead>\n",
       "    <tr style=\"text-align: right;\">\n",
       "      <th></th>\n",
       "      <th>InvoiceNo</th>\n",
       "      <th>StockCode</th>\n",
       "      <th>Description</th>\n",
       "      <th>Quantity</th>\n",
       "      <th>InvoiceDate</th>\n",
       "      <th>UnitPrice</th>\n",
       "      <th>CustomerID</th>\n",
       "      <th>Country</th>\n",
       "    </tr>\n",
       "  </thead>\n",
       "  <tbody>\n",
       "    <tr>\n",
       "      <th>0</th>\n",
       "      <td>536365</td>\n",
       "      <td>85123A</td>\n",
       "      <td>WHITE HANGING HEART T-LIGHT HOLDER</td>\n",
       "      <td>6</td>\n",
       "      <td>12/1/2010 8:26</td>\n",
       "      <td>2.55</td>\n",
       "      <td>17850.0</td>\n",
       "      <td>United Kingdom</td>\n",
       "    </tr>\n",
       "    <tr>\n",
       "      <th>1</th>\n",
       "      <td>536365</td>\n",
       "      <td>71053</td>\n",
       "      <td>WHITE METAL LANTERN</td>\n",
       "      <td>6</td>\n",
       "      <td>12/1/2010 8:26</td>\n",
       "      <td>3.39</td>\n",
       "      <td>17850.0</td>\n",
       "      <td>United Kingdom</td>\n",
       "    </tr>\n",
       "    <tr>\n",
       "      <th>2</th>\n",
       "      <td>536365</td>\n",
       "      <td>84406B</td>\n",
       "      <td>CREAM CUPID HEARTS COAT HANGER</td>\n",
       "      <td>8</td>\n",
       "      <td>12/1/2010 8:26</td>\n",
       "      <td>2.75</td>\n",
       "      <td>17850.0</td>\n",
       "      <td>United Kingdom</td>\n",
       "    </tr>\n",
       "    <tr>\n",
       "      <th>3</th>\n",
       "      <td>536365</td>\n",
       "      <td>84029G</td>\n",
       "      <td>KNITTED UNION FLAG HOT WATER BOTTLE</td>\n",
       "      <td>6</td>\n",
       "      <td>12/1/2010 8:26</td>\n",
       "      <td>3.39</td>\n",
       "      <td>17850.0</td>\n",
       "      <td>United Kingdom</td>\n",
       "    </tr>\n",
       "    <tr>\n",
       "      <th>4</th>\n",
       "      <td>536365</td>\n",
       "      <td>84029E</td>\n",
       "      <td>RED WOOLLY HOTTIE WHITE HEART.</td>\n",
       "      <td>6</td>\n",
       "      <td>12/1/2010 8:26</td>\n",
       "      <td>3.39</td>\n",
       "      <td>17850.0</td>\n",
       "      <td>United Kingdom</td>\n",
       "    </tr>\n",
       "  </tbody>\n",
       "</table>\n",
       "</div>"
      ],
      "text/plain": [
       "  InvoiceNo StockCode                          Description  Quantity   \n",
       "0    536365    85123A   WHITE HANGING HEART T-LIGHT HOLDER         6  \\\n",
       "1    536365     71053                  WHITE METAL LANTERN         6   \n",
       "2    536365    84406B       CREAM CUPID HEARTS COAT HANGER         8   \n",
       "3    536365    84029G  KNITTED UNION FLAG HOT WATER BOTTLE         6   \n",
       "4    536365    84029E       RED WOOLLY HOTTIE WHITE HEART.         6   \n",
       "\n",
       "      InvoiceDate  UnitPrice  CustomerID         Country  \n",
       "0  12/1/2010 8:26       2.55     17850.0  United Kingdom  \n",
       "1  12/1/2010 8:26       3.39     17850.0  United Kingdom  \n",
       "2  12/1/2010 8:26       2.75     17850.0  United Kingdom  \n",
       "3  12/1/2010 8:26       3.39     17850.0  United Kingdom  \n",
       "4  12/1/2010 8:26       3.39     17850.0  United Kingdom  "
      ]
     },
     "execution_count": 3,
     "metadata": {},
     "output_type": "execute_result"
    }
   ],
   "source": [
    "# checking for the top 5 rows \n",
    "\n",
    "df.head()"
   ]
  },
  {
   "cell_type": "code",
   "execution_count": 4,
   "id": "851940f2",
   "metadata": {
    "ExecuteTime": {
     "end_time": "2023-11-15T07:59:02.106204Z",
     "start_time": "2023-11-15T07:59:02.086176Z"
    }
   },
   "outputs": [
    {
     "data": {
      "text/plain": [
       "(541909, 8)"
      ]
     },
     "execution_count": 4,
     "metadata": {},
     "output_type": "execute_result"
    }
   ],
   "source": [
    "# checking for the shape of the data\n",
    "\n",
    "df.shape"
   ]
  },
  {
   "cell_type": "code",
   "execution_count": 5,
   "id": "663f35ce",
   "metadata": {
    "ExecuteTime": {
     "end_time": "2023-11-15T07:59:03.482537Z",
     "start_time": "2023-11-15T07:59:03.066612Z"
    }
   },
   "outputs": [
    {
     "name": "stdout",
     "output_type": "stream",
     "text": [
      "<class 'pandas.core.frame.DataFrame'>\n",
      "RangeIndex: 541909 entries, 0 to 541908\n",
      "Data columns (total 8 columns):\n",
      " #   Column       Non-Null Count   Dtype  \n",
      "---  ------       --------------   -----  \n",
      " 0   InvoiceNo    541909 non-null  object \n",
      " 1   StockCode    541909 non-null  object \n",
      " 2   Description  540455 non-null  object \n",
      " 3   Quantity     541909 non-null  int64  \n",
      " 4   InvoiceDate  541909 non-null  object \n",
      " 5   UnitPrice    541909 non-null  float64\n",
      " 6   CustomerID   406829 non-null  float64\n",
      " 7   Country      541909 non-null  object \n",
      "dtypes: float64(2), int64(1), object(5)\n",
      "memory usage: 33.1+ MB\n"
     ]
    }
   ],
   "source": [
    "# checking for the dataframe information\n",
    "\n",
    "df.info()"
   ]
  },
  {
   "cell_type": "code",
   "execution_count": 6,
   "id": "761d3991",
   "metadata": {
    "ExecuteTime": {
     "end_time": "2023-11-15T07:59:04.287250Z",
     "start_time": "2023-11-15T07:59:04.132012Z"
    }
   },
   "outputs": [
    {
     "data": {
      "text/plain": [
       "InvoiceNo       0.00\n",
       "StockCode       0.00\n",
       "Description     0.27\n",
       "Quantity        0.00\n",
       "InvoiceDate     0.00\n",
       "UnitPrice       0.00\n",
       "CustomerID     24.93\n",
       "Country         0.00\n",
       "dtype: float64"
      ]
     },
     "execution_count": 6,
     "metadata": {},
     "output_type": "execute_result"
    }
   ],
   "source": [
    "# Checking for the percentage null values in dataset\n",
    "\n",
    "np.round((df.isna().sum()/len(df))*100,2)"
   ]
  },
  {
   "cell_type": "code",
   "execution_count": 7,
   "id": "64fa11f3",
   "metadata": {
    "ExecuteTime": {
     "end_time": "2023-11-15T07:59:05.169342Z",
     "start_time": "2023-11-15T07:59:04.955853Z"
    }
   },
   "outputs": [],
   "source": [
    "# dropping the null values\n",
    "\n",
    "df.dropna(inplace = True)"
   ]
  },
  {
   "cell_type": "code",
   "execution_count": 8,
   "id": "22a97be4",
   "metadata": {
    "ExecuteTime": {
     "end_time": "2023-11-15T07:59:05.870170Z",
     "start_time": "2023-11-15T07:59:05.847136Z"
    }
   },
   "outputs": [
    {
     "data": {
      "text/plain": [
       "(406829, 8)"
      ]
     },
     "execution_count": 8,
     "metadata": {},
     "output_type": "execute_result"
    }
   ],
   "source": [
    "df.shape"
   ]
  },
  {
   "cell_type": "markdown",
   "id": "8a9e8db1",
   "metadata": {},
   "source": [
    "### Calculate the Customer Life Time Value (CLTV) Using 2 Different methods\n",
    "\n",
    "1. RFM Method\n",
    "2. Predictive Modelling\n"
   ]
  },
  {
   "cell_type": "markdown",
   "id": "10ab4331",
   "metadata": {},
   "source": [
    "### RFM Method (Recency, Frequency, Monetary)"
   ]
  },
  {
   "cell_type": "code",
   "execution_count": 9,
   "id": "145af254",
   "metadata": {
    "ExecuteTime": {
     "end_time": "2023-11-15T07:59:08.818839Z",
     "start_time": "2023-11-15T07:59:08.231102Z"
    }
   },
   "outputs": [],
   "source": [
    "\"\"\"\n",
    "Recency (R): How recently a customer has made a purchase.\n",
    "Frequency (F): How often a customer makes a purchase.\n",
    "Monetary (M): How much money a customer has spent.\n",
    "We'll assign a score to each dimension and then combine them to calculate CLTV.\n",
    "\"\"\"\n",
    "df1 = df.copy()\n",
    "\n",
    "# Convert InvoiceDate to datetime\n",
    "df1['InvoiceDate'] = pd.to_datetime(df['InvoiceDate'])\n",
    "df1['InvoiceDate']\n",
    "\n",
    "# Calculate Recency, Frequency, and Monetary\n",
    "today = df1['InvoiceDate'].max()"
   ]
  },
  {
   "cell_type": "code",
   "execution_count": 10,
   "id": "fa87e100",
   "metadata": {
    "ExecuteTime": {
     "end_time": "2023-11-15T07:59:10.085324Z",
     "start_time": "2023-11-15T07:59:09.078441Z"
    }
   },
   "outputs": [
    {
     "name": "stdout",
     "output_type": "stream",
     "text": [
      "[CustomerID\n",
      "12346.0    325\n",
      "12347.0      1\n",
      "12348.0     74\n",
      "12349.0     18\n",
      "12350.0    309\n",
      "          ... \n",
      "18280.0    277\n",
      "18281.0    180\n",
      "18282.0      7\n",
      "18283.0      3\n",
      "18287.0     42\n",
      "Name: InvoiceDate, Length: 4372, dtype: int64]\n"
     ]
    },
    {
     "data": {
      "text/html": [
       "<div>\n",
       "<style scoped>\n",
       "    .dataframe tbody tr th:only-of-type {\n",
       "        vertical-align: middle;\n",
       "    }\n",
       "\n",
       "    .dataframe tbody tr th {\n",
       "        vertical-align: top;\n",
       "    }\n",
       "\n",
       "    .dataframe thead th {\n",
       "        text-align: right;\n",
       "    }\n",
       "</style>\n",
       "<table border=\"1\" class=\"dataframe\">\n",
       "  <thead>\n",
       "    <tr style=\"text-align: right;\">\n",
       "      <th></th>\n",
       "      <th>Recency</th>\n",
       "    </tr>\n",
       "    <tr>\n",
       "      <th>CustomerID</th>\n",
       "      <th></th>\n",
       "    </tr>\n",
       "  </thead>\n",
       "  <tbody>\n",
       "    <tr>\n",
       "      <th>12346.0</th>\n",
       "      <td>325</td>\n",
       "    </tr>\n",
       "    <tr>\n",
       "      <th>12347.0</th>\n",
       "      <td>1</td>\n",
       "    </tr>\n",
       "    <tr>\n",
       "      <th>12348.0</th>\n",
       "      <td>74</td>\n",
       "    </tr>\n",
       "    <tr>\n",
       "      <th>12349.0</th>\n",
       "      <td>18</td>\n",
       "    </tr>\n",
       "    <tr>\n",
       "      <th>12350.0</th>\n",
       "      <td>309</td>\n",
       "    </tr>\n",
       "    <tr>\n",
       "      <th>...</th>\n",
       "      <td>...</td>\n",
       "    </tr>\n",
       "    <tr>\n",
       "      <th>18280.0</th>\n",
       "      <td>277</td>\n",
       "    </tr>\n",
       "    <tr>\n",
       "      <th>18281.0</th>\n",
       "      <td>180</td>\n",
       "    </tr>\n",
       "    <tr>\n",
       "      <th>18282.0</th>\n",
       "      <td>7</td>\n",
       "    </tr>\n",
       "    <tr>\n",
       "      <th>18283.0</th>\n",
       "      <td>3</td>\n",
       "    </tr>\n",
       "    <tr>\n",
       "      <th>18287.0</th>\n",
       "      <td>42</td>\n",
       "    </tr>\n",
       "  </tbody>\n",
       "</table>\n",
       "<p>4372 rows × 1 columns</p>\n",
       "</div>"
      ],
      "text/plain": [
       "            Recency\n",
       "CustomerID         \n",
       "12346.0         325\n",
       "12347.0           1\n",
       "12348.0          74\n",
       "12349.0          18\n",
       "12350.0         309\n",
       "...             ...\n",
       "18280.0         277\n",
       "18281.0         180\n",
       "18282.0           7\n",
       "18283.0           3\n",
       "18287.0          42\n",
       "\n",
       "[4372 rows x 1 columns]"
      ]
     },
     "execution_count": 10,
     "metadata": {},
     "output_type": "execute_result"
    }
   ],
   "source": [
    "# Recency\n",
    "\n",
    "Recency = []\n",
    "\n",
    "for i in df1:\n",
    "    r = (today - df1.groupby('CustomerID')['InvoiceDate'].max()).dt.days\n",
    "Recency.append(r)\n",
    "    \n",
    "print(Recency)\n",
    "\n",
    "# Creating the datframe\n",
    "df2 = pd.DataFrame(Recency)\n",
    "df2 = df2.T\n",
    "df2.rename(columns = {\"InvoiceDate\" : \"Recency\"}, inplace = True)\n",
    "df2\n"
   ]
  },
  {
   "cell_type": "code",
   "execution_count": 11,
   "id": "3216dac0",
   "metadata": {
    "ExecuteTime": {
     "end_time": "2023-11-15T07:59:10.134406Z",
     "start_time": "2023-11-15T07:59:10.104353Z"
    }
   },
   "outputs": [],
   "source": [
    "# convert the datatype int to float\n",
    "\n",
    "df1[\"Quantity\"] = df1[\"Quantity\"].astype(float)"
   ]
  },
  {
   "cell_type": "code",
   "execution_count": 12,
   "id": "9f711ccf",
   "metadata": {
    "ExecuteTime": {
     "end_time": "2023-11-15T07:59:11.139637Z",
     "start_time": "2023-11-15T07:59:10.867123Z"
    }
   },
   "outputs": [],
   "source": [
    "# Frequency\n",
    "df2['Frequency'] = df1.groupby('CustomerID')['InvoiceNo'].nunique()\n",
    "\n",
    "# Monetary\n",
    "df1['Quantity * UnitPrice'] = round(df1['Quantity'] * df1['UnitPrice'],2)\n",
    "df2['Monetary'] = df1.groupby('CustomerID')['Quantity * UnitPrice'].sum()\n",
    "\n",
    "# Calculate CLTV using RFM scores\n",
    "# df2['Recency_Score'] = pd.qcut(df2['Recency'], q=4, labels=[4, 3, 2, 1])\n",
    "# df2['Frequency_Score'] = pd.qcut(df2['Frequency'].rank(method=\"first\"), q=4, labels=[1, 2, 3, 4])\n",
    "# df2['Monetary_Score'] = pd.qcut(df2['Monetary'], q=4, labels=[1, 2, 3, 4])\n",
    "\n",
    "## Calculate CLTV\n",
    "# df2['CLTV'] = df2['Recency_Score'].astype(int) + df2['Frequency_Score'].astype(int) + df2['Monetary_Score'].astype(int)\n",
    "\n"
   ]
  },
  {
   "cell_type": "code",
   "execution_count": 13,
   "id": "35453210",
   "metadata": {
    "ExecuteTime": {
     "end_time": "2023-11-15T07:59:11.723253Z",
     "start_time": "2023-11-15T07:59:11.671175Z"
    }
   },
   "outputs": [
    {
     "data": {
      "text/plain": [
       "Quantity * UnitPrice\n",
       " 15.00     20082\n",
       " 19.80     11033\n",
       " 17.70      9174\n",
       " 16.50      8490\n",
       " 10.20      8028\n",
       "           ...  \n",
       " 31.45         1\n",
       "-58.10         1\n",
       " 998.40        1\n",
       "-45.57         1\n",
       " 66.36         1\n",
       "Name: count, Length: 3735, dtype: int64"
      ]
     },
     "execution_count": 13,
     "metadata": {},
     "output_type": "execute_result"
    }
   ],
   "source": [
    "df1[\"Quantity * UnitPrice\"].value_counts()"
   ]
  },
  {
   "cell_type": "code",
   "execution_count": 14,
   "id": "5baa2c37",
   "metadata": {
    "ExecuteTime": {
     "end_time": "2023-11-15T07:59:12.506651Z",
     "start_time": "2023-11-15T07:59:12.456576Z"
    }
   },
   "outputs": [],
   "source": [
    "# convert dataframe df2 to csv file\n",
    "\n",
    "df2.to_csv(r\"C:\\Users\\HP PC\\Desktop\\dl1\\DATA SCIENCE COURSE\\PRACTICE\\Fugetron\\cltv\\cltv_df.csv\")"
   ]
  },
  {
   "cell_type": "code",
   "execution_count": 15,
   "id": "57d2c83a",
   "metadata": {
    "ExecuteTime": {
     "end_time": "2023-11-15T07:59:13.158295Z",
     "start_time": "2023-11-15T07:59:13.136261Z"
    }
   },
   "outputs": [
    {
     "data": {
      "text/html": [
       "<div>\n",
       "<style scoped>\n",
       "    .dataframe tbody tr th:only-of-type {\n",
       "        vertical-align: middle;\n",
       "    }\n",
       "\n",
       "    .dataframe tbody tr th {\n",
       "        vertical-align: top;\n",
       "    }\n",
       "\n",
       "    .dataframe thead th {\n",
       "        text-align: right;\n",
       "    }\n",
       "</style>\n",
       "<table border=\"1\" class=\"dataframe\">\n",
       "  <thead>\n",
       "    <tr style=\"text-align: right;\">\n",
       "      <th></th>\n",
       "      <th>Recency</th>\n",
       "      <th>Frequency</th>\n",
       "      <th>Monetary</th>\n",
       "    </tr>\n",
       "    <tr>\n",
       "      <th>CustomerID</th>\n",
       "      <th></th>\n",
       "      <th></th>\n",
       "      <th></th>\n",
       "    </tr>\n",
       "  </thead>\n",
       "  <tbody>\n",
       "    <tr>\n",
       "      <th>12346.0</th>\n",
       "      <td>325</td>\n",
       "      <td>2</td>\n",
       "      <td>0.00</td>\n",
       "    </tr>\n",
       "    <tr>\n",
       "      <th>12347.0</th>\n",
       "      <td>1</td>\n",
       "      <td>7</td>\n",
       "      <td>4310.00</td>\n",
       "    </tr>\n",
       "    <tr>\n",
       "      <th>12348.0</th>\n",
       "      <td>74</td>\n",
       "      <td>4</td>\n",
       "      <td>1797.24</td>\n",
       "    </tr>\n",
       "    <tr>\n",
       "      <th>12349.0</th>\n",
       "      <td>18</td>\n",
       "      <td>1</td>\n",
       "      <td>1757.55</td>\n",
       "    </tr>\n",
       "    <tr>\n",
       "      <th>12350.0</th>\n",
       "      <td>309</td>\n",
       "      <td>1</td>\n",
       "      <td>334.40</td>\n",
       "    </tr>\n",
       "    <tr>\n",
       "      <th>...</th>\n",
       "      <td>...</td>\n",
       "      <td>...</td>\n",
       "      <td>...</td>\n",
       "    </tr>\n",
       "    <tr>\n",
       "      <th>18280.0</th>\n",
       "      <td>277</td>\n",
       "      <td>1</td>\n",
       "      <td>180.60</td>\n",
       "    </tr>\n",
       "    <tr>\n",
       "      <th>18281.0</th>\n",
       "      <td>180</td>\n",
       "      <td>1</td>\n",
       "      <td>80.82</td>\n",
       "    </tr>\n",
       "    <tr>\n",
       "      <th>18282.0</th>\n",
       "      <td>7</td>\n",
       "      <td>3</td>\n",
       "      <td>176.60</td>\n",
       "    </tr>\n",
       "    <tr>\n",
       "      <th>18283.0</th>\n",
       "      <td>3</td>\n",
       "      <td>16</td>\n",
       "      <td>2094.88</td>\n",
       "    </tr>\n",
       "    <tr>\n",
       "      <th>18287.0</th>\n",
       "      <td>42</td>\n",
       "      <td>3</td>\n",
       "      <td>1837.28</td>\n",
       "    </tr>\n",
       "  </tbody>\n",
       "</table>\n",
       "<p>4372 rows × 3 columns</p>\n",
       "</div>"
      ],
      "text/plain": [
       "            Recency  Frequency  Monetary\n",
       "CustomerID                              \n",
       "12346.0         325          2      0.00\n",
       "12347.0           1          7   4310.00\n",
       "12348.0          74          4   1797.24\n",
       "12349.0          18          1   1757.55\n",
       "12350.0         309          1    334.40\n",
       "...             ...        ...       ...\n",
       "18280.0         277          1    180.60\n",
       "18281.0         180          1     80.82\n",
       "18282.0           7          3    176.60\n",
       "18283.0           3         16   2094.88\n",
       "18287.0          42          3   1837.28\n",
       "\n",
       "[4372 rows x 3 columns]"
      ]
     },
     "execution_count": 15,
     "metadata": {},
     "output_type": "execute_result"
    }
   ],
   "source": [
    "df2"
   ]
  },
  {
   "cell_type": "code",
   "execution_count": 16,
   "id": "6342328f",
   "metadata": {
    "ExecuteTime": {
     "end_time": "2023-11-15T07:59:13.850179Z",
     "start_time": "2023-11-15T07:59:13.804110Z"
    }
   },
   "outputs": [],
   "source": [
    "# load the csv file\n",
    "\n",
    "data = pd.read_csv(r\"C:\\Users\\HP PC\\Desktop\\dl1\\DATA SCIENCE COURSE\\PRACTICE\\Fugetron\\cltv\\cltv_df.csv\")"
   ]
  },
  {
   "cell_type": "code",
   "execution_count": 17,
   "id": "d00d39ea",
   "metadata": {
    "ExecuteTime": {
     "end_time": "2023-11-15T07:59:14.578238Z",
     "start_time": "2023-11-15T07:59:14.554204Z"
    }
   },
   "outputs": [
    {
     "data": {
      "text/html": [
       "<div>\n",
       "<style scoped>\n",
       "    .dataframe tbody tr th:only-of-type {\n",
       "        vertical-align: middle;\n",
       "    }\n",
       "\n",
       "    .dataframe tbody tr th {\n",
       "        vertical-align: top;\n",
       "    }\n",
       "\n",
       "    .dataframe thead th {\n",
       "        text-align: right;\n",
       "    }\n",
       "</style>\n",
       "<table border=\"1\" class=\"dataframe\">\n",
       "  <thead>\n",
       "    <tr style=\"text-align: right;\">\n",
       "      <th></th>\n",
       "      <th>CustomerID</th>\n",
       "      <th>Recency</th>\n",
       "      <th>Frequency</th>\n",
       "      <th>Monetary</th>\n",
       "    </tr>\n",
       "  </thead>\n",
       "  <tbody>\n",
       "    <tr>\n",
       "      <th>0</th>\n",
       "      <td>12346.0</td>\n",
       "      <td>325</td>\n",
       "      <td>2</td>\n",
       "      <td>0.00</td>\n",
       "    </tr>\n",
       "    <tr>\n",
       "      <th>1</th>\n",
       "      <td>12347.0</td>\n",
       "      <td>1</td>\n",
       "      <td>7</td>\n",
       "      <td>4310.00</td>\n",
       "    </tr>\n",
       "    <tr>\n",
       "      <th>2</th>\n",
       "      <td>12348.0</td>\n",
       "      <td>74</td>\n",
       "      <td>4</td>\n",
       "      <td>1797.24</td>\n",
       "    </tr>\n",
       "    <tr>\n",
       "      <th>3</th>\n",
       "      <td>12349.0</td>\n",
       "      <td>18</td>\n",
       "      <td>1</td>\n",
       "      <td>1757.55</td>\n",
       "    </tr>\n",
       "    <tr>\n",
       "      <th>4</th>\n",
       "      <td>12350.0</td>\n",
       "      <td>309</td>\n",
       "      <td>1</td>\n",
       "      <td>334.40</td>\n",
       "    </tr>\n",
       "    <tr>\n",
       "      <th>...</th>\n",
       "      <td>...</td>\n",
       "      <td>...</td>\n",
       "      <td>...</td>\n",
       "      <td>...</td>\n",
       "    </tr>\n",
       "    <tr>\n",
       "      <th>4367</th>\n",
       "      <td>18280.0</td>\n",
       "      <td>277</td>\n",
       "      <td>1</td>\n",
       "      <td>180.60</td>\n",
       "    </tr>\n",
       "    <tr>\n",
       "      <th>4368</th>\n",
       "      <td>18281.0</td>\n",
       "      <td>180</td>\n",
       "      <td>1</td>\n",
       "      <td>80.82</td>\n",
       "    </tr>\n",
       "    <tr>\n",
       "      <th>4369</th>\n",
       "      <td>18282.0</td>\n",
       "      <td>7</td>\n",
       "      <td>3</td>\n",
       "      <td>176.60</td>\n",
       "    </tr>\n",
       "    <tr>\n",
       "      <th>4370</th>\n",
       "      <td>18283.0</td>\n",
       "      <td>3</td>\n",
       "      <td>16</td>\n",
       "      <td>2094.88</td>\n",
       "    </tr>\n",
       "    <tr>\n",
       "      <th>4371</th>\n",
       "      <td>18287.0</td>\n",
       "      <td>42</td>\n",
       "      <td>3</td>\n",
       "      <td>1837.28</td>\n",
       "    </tr>\n",
       "  </tbody>\n",
       "</table>\n",
       "<p>4372 rows × 4 columns</p>\n",
       "</div>"
      ],
      "text/plain": [
       "      CustomerID  Recency  Frequency  Monetary\n",
       "0        12346.0      325          2      0.00\n",
       "1        12347.0        1          7   4310.00\n",
       "2        12348.0       74          4   1797.24\n",
       "3        12349.0       18          1   1757.55\n",
       "4        12350.0      309          1    334.40\n",
       "...          ...      ...        ...       ...\n",
       "4367     18280.0      277          1    180.60\n",
       "4368     18281.0      180          1     80.82\n",
       "4369     18282.0        7          3    176.60\n",
       "4370     18283.0        3         16   2094.88\n",
       "4371     18287.0       42          3   1837.28\n",
       "\n",
       "[4372 rows x 4 columns]"
      ]
     },
     "execution_count": 17,
     "metadata": {},
     "output_type": "execute_result"
    }
   ],
   "source": [
    "data"
   ]
  },
  {
   "cell_type": "code",
   "execution_count": 20,
   "id": "46857c3d",
   "metadata": {
    "ExecuteTime": {
     "end_time": "2023-11-15T07:59:58.908288Z",
     "start_time": "2023-11-15T07:59:58.206673Z"
    }
   },
   "outputs": [
    {
     "data": {
      "text/plain": [
       "<Axes: xlabel='Recency'>"
      ]
     },
     "execution_count": 20,
     "metadata": {},
     "output_type": "execute_result"
    },
    {
     "data": {
      "image/png": "[encoded data removed]",
      "text/plain": [
       "<Figure size 800x500 with 3 Axes>"
      ]
     },
     "metadata": {},
     "output_type": "display_data"
    }
   ],
   "source": [
    "# Detecting the outliers\n",
    "\n",
    "plt.figure(figsize = (8,5))\n",
    "plt.subplot(231)\n",
    "sns.boxplot(x = data[\"Monetary\"])\n",
    "\n",
    "plt.subplot(232)\n",
    "sns.boxplot(x= data[\"Frequency\"])\n",
    "\n",
    "plt.subplot(233)\n",
    "sns.boxplot(x = data[\"Recency\"])"
   ]
  },
  {
   "cell_type": "code",
   "execution_count": 21,
   "id": "4cc29ee5",
   "metadata": {
    "ExecuteTime": {
     "end_time": "2023-11-15T08:00:01.783174Z",
     "start_time": "2023-11-15T08:00:01.761138Z"
    }
   },
   "outputs": [
    {
     "data": {
      "text/plain": [
       "279489.02"
      ]
     },
     "execution_count": 21,
     "metadata": {},
     "output_type": "execute_result"
    }
   ],
   "source": [
    "data[\"Monetary\"].max()"
   ]
  },
  {
   "cell_type": "markdown",
   "id": "3f5b80ad",
   "metadata": {},
   "source": [
    "### Observations: \n",
    "1. Detecting the outliers using boxplot in Monetary, Frequency and Recency columns.\n",
    "2. By observing the plot we can see that in Monetary and Frequency more outliers are present so treatment of outliers is needed."
   ]
  },
  {
   "cell_type": "code",
   "execution_count": 22,
   "id": "becd9e0b",
   "metadata": {
    "ExecuteTime": {
     "end_time": "2023-11-15T08:00:03.681473Z",
     "start_time": "2023-11-15T08:00:03.671454Z"
    }
   },
   "outputs": [],
   "source": [
    "# Replace 0 value to 1 because after doing transformation log(0) = infinity\n",
    "\n",
    "data[\"Monetary\"].replace(0, 1, inplace=True)\n",
    "data[\"Recency\"].replace(0, 1, inplace=True)"
   ]
  },
  {
   "cell_type": "markdown",
   "id": "3a7de049",
   "metadata": {
    "ExecuteTime": {
     "end_time": "2023-09-14T07:41:18.142060Z",
     "start_time": "2023-09-14T07:41:18.135047Z"
    }
   },
   "source": [
    "### Treatment of the outliers"
   ]
  },
  {
   "cell_type": "code",
   "execution_count": 23,
   "id": "ebf7ee91",
   "metadata": {
    "ExecuteTime": {
     "end_time": "2023-11-15T08:00:07.226665Z",
     "start_time": "2023-11-15T08:00:07.206634Z"
    }
   },
   "outputs": [],
   "source": [
    "### Using Quantiles in statistics (IQR)\n",
    "\n",
    "# outlier treatment for Monetary\n",
    "Q1 = data[\"Monetary\"].quantile(0.25)\n",
    "Q3 = data[\"Monetary\"].quantile(0.75)\n",
    "IQR = Q3- Q1\n",
    "data_m = data[(data[\"Monetary\"] >= Q1 - 1.5*IQR) & (data[\"Monetary\"] <= Q1 - 1.5*IQR)]\n"
   ]
  },
  {
   "cell_type": "code",
   "execution_count": 24,
   "id": "aec862b3",
   "metadata": {
    "ExecuteTime": {
     "end_time": "2023-11-15T08:00:07.886795Z",
     "start_time": "2023-11-15T08:00:07.865760Z"
    }
   },
   "outputs": [],
   "source": [
    "# outlier treatment for Frequency\n",
    "Q1 = data[\"Frequency\"].quantile(0.10)\n",
    "Q3 = data[\"Frequency\"].quantile(0.90)\n",
    "IQR = Q3- Q1\n",
    "data_f = data[(data[\"Frequency\"] >= Q1 - 1.5*IQR) & (data[\"Frequency\"] <= Q1 - 1.5*IQR)]"
   ]
  },
  {
   "cell_type": "code",
   "execution_count": 25,
   "id": "2b5ac63e",
   "metadata": {
    "ExecuteTime": {
     "end_time": "2023-11-15T08:00:08.532710Z",
     "start_time": "2023-11-15T08:00:08.519690Z"
    }
   },
   "outputs": [],
   "source": [
    "# outlier treatment for Recency\n",
    "Q1 = data[\"Recency\"].quantile(0.10)\n",
    "Q3 = data[\"Recency\"].quantile(0.90)\n",
    "IQR = Q3- Q1\n",
    "data_r = data[(data[\"Recency\"] >= Q1 - 1.5*IQR) & (data[\"Recency\"] <= Q1 - 1.5*IQR)]"
   ]
  },
  {
   "cell_type": "code",
   "execution_count": 26,
   "id": "78d0f786",
   "metadata": {
    "ExecuteTime": {
     "end_time": "2023-11-15T08:00:09.203487Z",
     "start_time": "2023-11-15T08:00:09.190464Z"
    }
   },
   "outputs": [],
   "source": [
    "# importing the library\n",
    "\n",
    "from scipy.stats import zscore\n",
    "from scipy.stats import boxcox"
   ]
  },
  {
   "cell_type": "code",
   "execution_count": 27,
   "id": "d18c21a7",
   "metadata": {
    "ExecuteTime": {
     "end_time": "2023-11-15T08:00:09.803474Z",
     "start_time": "2023-11-15T08:00:09.779437Z"
    }
   },
   "outputs": [
    {
     "data": {
      "text/plain": [
       "4372"
      ]
     },
     "execution_count": 27,
     "metadata": {},
     "output_type": "execute_result"
    }
   ],
   "source": [
    "# finding how many outliers in monetary\n",
    "\n",
    "zscore_m = zscore(data[\"Monetary\"])\n",
    "np.where(zscore_m>2,1,0).sum()\n",
    "np.where(zscore_m>-2,1,0).sum()"
   ]
  },
  {
   "cell_type": "code",
   "execution_count": 28,
   "id": "21aa32a2",
   "metadata": {
    "ExecuteTime": {
     "end_time": "2023-11-15T08:00:10.452522Z",
     "start_time": "2023-11-15T08:00:10.428484Z"
    }
   },
   "outputs": [
    {
     "data": {
      "text/plain": [
       "4372"
      ]
     },
     "execution_count": 28,
     "metadata": {},
     "output_type": "execute_result"
    }
   ],
   "source": [
    "# finding how many outliers in frequency\n",
    "\n",
    "zscore_f = zscore(data[\"Frequency\"])\n",
    "np.where(zscore_f>2,1,0).sum()\n",
    "np.where(zscore_f>-2,1,0).sum()"
   ]
  },
  {
   "cell_type": "code",
   "execution_count": 29,
   "id": "fa947320",
   "metadata": {
    "ExecuteTime": {
     "end_time": "2023-11-15T08:00:11.397853Z",
     "start_time": "2023-11-15T08:00:11.093923Z"
    }
   },
   "outputs": [
    {
     "data": {
      "text/plain": [
       "4372"
      ]
     },
     "execution_count": 29,
     "metadata": {},
     "output_type": "execute_result"
    }
   ],
   "source": [
    "# finding how many outliers in recency\n",
    "\n",
    "zscore_r = zscore(data[\"Recency\"])\n",
    "np.where(zscore_r>2,1,0).sum()\n",
    "np.where(zscore_r>-2,1,0).sum()"
   ]
  },
  {
   "cell_type": "code",
   "execution_count": 30,
   "id": "cb4e6845",
   "metadata": {
    "ExecuteTime": {
     "end_time": "2023-11-15T08:00:12.184805Z",
     "start_time": "2023-11-15T08:00:12.158768Z"
    }
   },
   "outputs": [],
   "source": [
    "# performing log transformation for treatment of outliers\n",
    "\n",
    "# data[\"log_m\"] = np.log(data[\"Monetary\"])\n",
    "data[\"log_r\"] = np.log(data[\"Recency\"])\n",
    "\n"
   ]
  },
  {
   "cell_type": "code",
   "execution_count": 31,
   "id": "a9fc4043",
   "metadata": {
    "ExecuteTime": {
     "end_time": "2023-11-15T08:00:13.114415Z",
     "start_time": "2023-11-15T08:00:13.086371Z"
    }
   },
   "outputs": [
    {
     "data": {
      "text/html": [
       "<div>\n",
       "<style scoped>\n",
       "    .dataframe tbody tr th:only-of-type {\n",
       "        vertical-align: middle;\n",
       "    }\n",
       "\n",
       "    .dataframe tbody tr th {\n",
       "        vertical-align: top;\n",
       "    }\n",
       "\n",
       "    .dataframe thead th {\n",
       "        text-align: right;\n",
       "    }\n",
       "</style>\n",
       "<table border=\"1\" class=\"dataframe\">\n",
       "  <thead>\n",
       "    <tr style=\"text-align: right;\">\n",
       "      <th></th>\n",
       "      <th>CustomerID</th>\n",
       "      <th>Recency</th>\n",
       "      <th>Frequency</th>\n",
       "      <th>Monetary</th>\n",
       "      <th>log_r</th>\n",
       "    </tr>\n",
       "  </thead>\n",
       "  <tbody>\n",
       "    <tr>\n",
       "      <th>0</th>\n",
       "      <td>12346.0</td>\n",
       "      <td>325</td>\n",
       "      <td>2</td>\n",
       "      <td>1.00</td>\n",
       "      <td>5.783825</td>\n",
       "    </tr>\n",
       "    <tr>\n",
       "      <th>1</th>\n",
       "      <td>12347.0</td>\n",
       "      <td>1</td>\n",
       "      <td>7</td>\n",
       "      <td>4310.00</td>\n",
       "      <td>0.000000</td>\n",
       "    </tr>\n",
       "    <tr>\n",
       "      <th>2</th>\n",
       "      <td>12348.0</td>\n",
       "      <td>74</td>\n",
       "      <td>4</td>\n",
       "      <td>1797.24</td>\n",
       "      <td>4.304065</td>\n",
       "    </tr>\n",
       "    <tr>\n",
       "      <th>3</th>\n",
       "      <td>12349.0</td>\n",
       "      <td>18</td>\n",
       "      <td>1</td>\n",
       "      <td>1757.55</td>\n",
       "      <td>2.890372</td>\n",
       "    </tr>\n",
       "    <tr>\n",
       "      <th>4</th>\n",
       "      <td>12350.0</td>\n",
       "      <td>309</td>\n",
       "      <td>1</td>\n",
       "      <td>334.40</td>\n",
       "      <td>5.733341</td>\n",
       "    </tr>\n",
       "    <tr>\n",
       "      <th>...</th>\n",
       "      <td>...</td>\n",
       "      <td>...</td>\n",
       "      <td>...</td>\n",
       "      <td>...</td>\n",
       "      <td>...</td>\n",
       "    </tr>\n",
       "    <tr>\n",
       "      <th>4367</th>\n",
       "      <td>18280.0</td>\n",
       "      <td>277</td>\n",
       "      <td>1</td>\n",
       "      <td>180.60</td>\n",
       "      <td>5.624018</td>\n",
       "    </tr>\n",
       "    <tr>\n",
       "      <th>4368</th>\n",
       "      <td>18281.0</td>\n",
       "      <td>180</td>\n",
       "      <td>1</td>\n",
       "      <td>80.82</td>\n",
       "      <td>5.192957</td>\n",
       "    </tr>\n",
       "    <tr>\n",
       "      <th>4369</th>\n",
       "      <td>18282.0</td>\n",
       "      <td>7</td>\n",
       "      <td>3</td>\n",
       "      <td>176.60</td>\n",
       "      <td>1.945910</td>\n",
       "    </tr>\n",
       "    <tr>\n",
       "      <th>4370</th>\n",
       "      <td>18283.0</td>\n",
       "      <td>3</td>\n",
       "      <td>16</td>\n",
       "      <td>2094.88</td>\n",
       "      <td>1.098612</td>\n",
       "    </tr>\n",
       "    <tr>\n",
       "      <th>4371</th>\n",
       "      <td>18287.0</td>\n",
       "      <td>42</td>\n",
       "      <td>3</td>\n",
       "      <td>1837.28</td>\n",
       "      <td>3.737670</td>\n",
       "    </tr>\n",
       "  </tbody>\n",
       "</table>\n",
       "<p>4372 rows × 5 columns</p>\n",
       "</div>"
      ],
      "text/plain": [
       "      CustomerID  Recency  Frequency  Monetary     log_r\n",
       "0        12346.0      325          2      1.00  5.783825\n",
       "1        12347.0        1          7   4310.00  0.000000\n",
       "2        12348.0       74          4   1797.24  4.304065\n",
       "3        12349.0       18          1   1757.55  2.890372\n",
       "4        12350.0      309          1    334.40  5.733341\n",
       "...          ...      ...        ...       ...       ...\n",
       "4367     18280.0      277          1    180.60  5.624018\n",
       "4368     18281.0      180          1     80.82  5.192957\n",
       "4369     18282.0        7          3    176.60  1.945910\n",
       "4370     18283.0        3         16   2094.88  1.098612\n",
       "4371     18287.0       42          3   1837.28  3.737670\n",
       "\n",
       "[4372 rows x 5 columns]"
      ]
     },
     "execution_count": 31,
     "metadata": {},
     "output_type": "execute_result"
    }
   ],
   "source": [
    "data"
   ]
  },
  {
   "cell_type": "code",
   "execution_count": 32,
   "id": "7bdc797d",
   "metadata": {
    "ExecuteTime": {
     "end_time": "2023-11-15T08:00:14.212627Z",
     "start_time": "2023-11-15T08:00:14.199608Z"
    }
   },
   "outputs": [],
   "source": [
    "# data.drop(\"log_f\", axis = 1, inplace = True)\n",
    "# data.drop(\"cube_root_m\", axis = 1, inplace = True)\n"
   ]
  },
  {
   "cell_type": "code",
   "execution_count": 33,
   "id": "14817d0d",
   "metadata": {
    "ExecuteTime": {
     "end_time": "2023-11-15T08:00:15.783840Z",
     "start_time": "2023-11-15T08:00:15.276438Z"
    }
   },
   "outputs": [],
   "source": [
    "# performing boxcox transformation for treatment of outliers\n",
    "\n",
    "boxcox_x, boxcox_y = boxcox(data[\"Frequency\"])\n",
    "data[\"boxcox_f\"] = boxcox(data[\"Frequency\"])[0]"
   ]
  },
  {
   "cell_type": "code",
   "execution_count": 34,
   "id": "075b51b0",
   "metadata": {
    "ExecuteTime": {
     "end_time": "2023-11-15T08:00:16.452541Z",
     "start_time": "2023-11-15T08:00:16.446533Z"
    }
   },
   "outputs": [],
   "source": [
    "# data[data[\"Monetary\"] <1]"
   ]
  },
  {
   "cell_type": "code",
   "execution_count": 35,
   "id": "ea859610",
   "metadata": {
    "ExecuteTime": {
     "end_time": "2023-11-15T08:00:17.548049Z",
     "start_time": "2023-11-15T08:00:17.239579Z"
    }
   },
   "outputs": [
    {
     "data": {
      "text/plain": [
       "<Axes: >"
      ]
     },
     "execution_count": 35,
     "metadata": {},
     "output_type": "execute_result"
    },
    {
     "data": {
      "image/png": "[encoded data removed]",
      "text/plain": [
       "<Figure size 640x480 with 1 Axes>"
      ]
     },
     "metadata": {},
     "output_type": "display_data"
    }
   ],
   "source": [
    "# performing cuberoot transformation for treatment of outliers\n",
    "\n",
    "# data[\"cube_root_m\"] = data[\"Monetary\"]**(1/3)\n",
    "sns.boxplot((data[\"Monetary\"]**(1/3))**(1/3))"
   ]
  },
  {
   "cell_type": "code",
   "execution_count": 36,
   "id": "f1228804",
   "metadata": {
    "ExecuteTime": {
     "end_time": "2023-11-15T08:00:18.353489Z",
     "start_time": "2023-11-15T08:00:18.338464Z"
    }
   },
   "outputs": [],
   "source": [
    "# In monetary column taking all the negative and equals to zero values as 1\n",
    "\n",
    "data['tras_Monetary'] = data['Monetary'].apply(lambda x: 1 if x <= 0 else x)"
   ]
  },
  {
   "cell_type": "code",
   "execution_count": 37,
   "id": "2429c948",
   "metadata": {
    "ExecuteTime": {
     "end_time": "2023-11-15T08:00:19.316497Z",
     "start_time": "2023-11-15T08:00:19.304479Z"
    }
   },
   "outputs": [],
   "source": [
    "# data[data['tras_Monetary'] <= 0]"
   ]
  },
  {
   "cell_type": "code",
   "execution_count": 38,
   "id": "7533bce1",
   "metadata": {
    "ExecuteTime": {
     "end_time": "2023-11-15T08:00:20.339687Z",
     "start_time": "2023-11-15T08:00:20.311643Z"
    }
   },
   "outputs": [],
   "source": [
    "# performing boxcox transformation for treatment of outliers\n",
    "\n",
    "boxcox_mx, boxcox_my = boxcox(data[\"tras_Monetary\"])\n",
    "data[\"boxcox_m\"] = boxcox(data[\"tras_Monetary\"])[0]"
   ]
  },
  {
   "cell_type": "code",
   "execution_count": 39,
   "id": "d7f66557",
   "metadata": {
    "ExecuteTime": {
     "end_time": "2023-11-15T08:00:21.265801Z",
     "start_time": "2023-11-15T08:00:21.216725Z"
    }
   },
   "outputs": [
    {
     "data": {
      "text/html": [
       "<div>\n",
       "<style scoped>\n",
       "    .dataframe tbody tr th:only-of-type {\n",
       "        vertical-align: middle;\n",
       "    }\n",
       "\n",
       "    .dataframe tbody tr th {\n",
       "        vertical-align: top;\n",
       "    }\n",
       "\n",
       "    .dataframe thead th {\n",
       "        text-align: right;\n",
       "    }\n",
       "</style>\n",
       "<table border=\"1\" class=\"dataframe\">\n",
       "  <thead>\n",
       "    <tr style=\"text-align: right;\">\n",
       "      <th></th>\n",
       "      <th>CustomerID</th>\n",
       "      <th>Recency</th>\n",
       "      <th>Frequency</th>\n",
       "      <th>Monetary</th>\n",
       "      <th>log_r</th>\n",
       "      <th>boxcox_f</th>\n",
       "      <th>tras_Monetary</th>\n",
       "      <th>boxcox_m</th>\n",
       "    </tr>\n",
       "  </thead>\n",
       "  <tbody>\n",
       "    <tr>\n",
       "      <th>0</th>\n",
       "      <td>12346.0</td>\n",
       "      <td>325</td>\n",
       "      <td>2</td>\n",
       "      <td>1.00</td>\n",
       "      <td>5.783825</td>\n",
       "      <td>0.619239</td>\n",
       "      <td>1.00</td>\n",
       "      <td>0.000000</td>\n",
       "    </tr>\n",
       "    <tr>\n",
       "      <th>1</th>\n",
       "      <td>12347.0</td>\n",
       "      <td>1</td>\n",
       "      <td>7</td>\n",
       "      <td>4310.00</td>\n",
       "      <td>0.000000</td>\n",
       "      <td>1.433779</td>\n",
       "      <td>4310.00</td>\n",
       "      <td>14.206518</td>\n",
       "    </tr>\n",
       "    <tr>\n",
       "      <th>2</th>\n",
       "      <td>12348.0</td>\n",
       "      <td>74</td>\n",
       "      <td>4</td>\n",
       "      <td>1797.24</td>\n",
       "      <td>4.304065</td>\n",
       "      <td>1.111291</td>\n",
       "      <td>1797.24</td>\n",
       "      <td>11.993144</td>\n",
       "    </tr>\n",
       "    <tr>\n",
       "      <th>3</th>\n",
       "      <td>12349.0</td>\n",
       "      <td>18</td>\n",
       "      <td>1</td>\n",
       "      <td>1757.55</td>\n",
       "      <td>2.890372</td>\n",
       "      <td>0.000000</td>\n",
       "      <td>1757.55</td>\n",
       "      <td>11.939547</td>\n",
       "    </tr>\n",
       "    <tr>\n",
       "      <th>4</th>\n",
       "      <td>12350.0</td>\n",
       "      <td>309</td>\n",
       "      <td>1</td>\n",
       "      <td>334.40</td>\n",
       "      <td>5.733341</td>\n",
       "      <td>0.000000</td>\n",
       "      <td>334.40</td>\n",
       "      <td>8.324491</td>\n",
       "    </tr>\n",
       "    <tr>\n",
       "      <th>...</th>\n",
       "      <td>...</td>\n",
       "      <td>...</td>\n",
       "      <td>...</td>\n",
       "      <td>...</td>\n",
       "      <td>...</td>\n",
       "      <td>...</td>\n",
       "      <td>...</td>\n",
       "      <td>...</td>\n",
       "    </tr>\n",
       "    <tr>\n",
       "      <th>4367</th>\n",
       "      <td>18280.0</td>\n",
       "      <td>277</td>\n",
       "      <td>1</td>\n",
       "      <td>180.60</td>\n",
       "      <td>5.624018</td>\n",
       "      <td>0.000000</td>\n",
       "      <td>180.60</td>\n",
       "      <td>7.151212</td>\n",
       "    </tr>\n",
       "    <tr>\n",
       "      <th>4368</th>\n",
       "      <td>18281.0</td>\n",
       "      <td>180</td>\n",
       "      <td>1</td>\n",
       "      <td>80.82</td>\n",
       "      <td>5.192957</td>\n",
       "      <td>0.000000</td>\n",
       "      <td>80.82</td>\n",
       "      <td>5.741736</td>\n",
       "    </tr>\n",
       "    <tr>\n",
       "      <th>4369</th>\n",
       "      <td>18282.0</td>\n",
       "      <td>7</td>\n",
       "      <td>3</td>\n",
       "      <td>176.60</td>\n",
       "      <td>1.945910</td>\n",
       "      <td>0.920699</td>\n",
       "      <td>176.60</td>\n",
       "      <td>7.110129</td>\n",
       "    </tr>\n",
       "    <tr>\n",
       "      <th>4370</th>\n",
       "      <td>18283.0</td>\n",
       "      <td>3</td>\n",
       "      <td>16</td>\n",
       "      <td>2094.88</td>\n",
       "      <td>1.098612</td>\n",
       "      <td>1.812962</td>\n",
       "      <td>2094.88</td>\n",
       "      <td>12.364742</td>\n",
       "    </tr>\n",
       "    <tr>\n",
       "      <th>4371</th>\n",
       "      <td>18287.0</td>\n",
       "      <td>42</td>\n",
       "      <td>3</td>\n",
       "      <td>1837.28</td>\n",
       "      <td>3.737670</td>\n",
       "      <td>0.920699</td>\n",
       "      <td>1837.28</td>\n",
       "      <td>12.046165</td>\n",
       "    </tr>\n",
       "  </tbody>\n",
       "</table>\n",
       "<p>4372 rows × 8 columns</p>\n",
       "</div>"
      ],
      "text/plain": [
       "      CustomerID  Recency  Frequency  Monetary     log_r  boxcox_f   \n",
       "0        12346.0      325          2      1.00  5.783825  0.619239  \\\n",
       "1        12347.0        1          7   4310.00  0.000000  1.433779   \n",
       "2        12348.0       74          4   1797.24  4.304065  1.111291   \n",
       "3        12349.0       18          1   1757.55  2.890372  0.000000   \n",
       "4        12350.0      309          1    334.40  5.733341  0.000000   \n",
       "...          ...      ...        ...       ...       ...       ...   \n",
       "4367     18280.0      277          1    180.60  5.624018  0.000000   \n",
       "4368     18281.0      180          1     80.82  5.192957  0.000000   \n",
       "4369     18282.0        7          3    176.60  1.945910  0.920699   \n",
       "4370     18283.0        3         16   2094.88  1.098612  1.812962   \n",
       "4371     18287.0       42          3   1837.28  3.737670  0.920699   \n",
       "\n",
       "      tras_Monetary   boxcox_m  \n",
       "0              1.00   0.000000  \n",
       "1           4310.00  14.206518  \n",
       "2           1797.24  11.993144  \n",
       "3           1757.55  11.939547  \n",
       "4            334.40   8.324491  \n",
       "...             ...        ...  \n",
       "4367         180.60   7.151212  \n",
       "4368          80.82   5.741736  \n",
       "4369         176.60   7.110129  \n",
       "4370        2094.88  12.364742  \n",
       "4371        1837.28  12.046165  \n",
       "\n",
       "[4372 rows x 8 columns]"
      ]
     },
     "execution_count": 39,
     "metadata": {},
     "output_type": "execute_result"
    }
   ],
   "source": [
    "data"
   ]
  },
  {
   "cell_type": "markdown",
   "id": "16bc6e54",
   "metadata": {
    "ExecuteTime": {
     "end_time": "2023-09-14T10:58:52.999790Z",
     "start_time": "2023-09-14T10:58:52.990777Z"
    }
   },
   "source": [
    "### Preparing for the model"
   ]
  },
  {
   "cell_type": "code",
   "execution_count": 40,
   "id": "795b279a",
   "metadata": {
    "ExecuteTime": {
     "end_time": "2023-11-15T08:00:28.884756Z",
     "start_time": "2023-11-15T08:00:28.865727Z"
    }
   },
   "outputs": [
    {
     "data": {
      "text/plain": [
       "log_r      -0.615719\n",
       "boxcox_f    0.112559\n",
       "boxcox_m    0.262198\n",
       "dtype: float64"
      ]
     },
     "execution_count": 40,
     "metadata": {},
     "output_type": "execute_result"
    }
   ],
   "source": [
    "newdata = data[[\"log_r\",\"boxcox_f\" ,\"boxcox_m\"]]\n",
    "newdata.head()\n",
    "newdata.skew()"
   ]
  },
  {
   "cell_type": "markdown",
   "id": "1fe43a33",
   "metadata": {
    "ExecuteTime": {
     "end_time": "2023-09-14T11:28:49.493937Z",
     "start_time": "2023-09-14T11:28:49.488932Z"
    }
   },
   "source": [
    "### Resecaling the data\n",
    "\n"
   ]
  },
  {
   "cell_type": "code",
   "execution_count": 41,
   "id": "2a0188e4",
   "metadata": {
    "ExecuteTime": {
     "end_time": "2023-11-15T08:00:32.747962Z",
     "start_time": "2023-11-15T08:00:32.718916Z"
    }
   },
   "outputs": [
    {
     "data": {
      "text/html": [
       "<div>\n",
       "<style scoped>\n",
       "    .dataframe tbody tr th:only-of-type {\n",
       "        vertical-align: middle;\n",
       "    }\n",
       "\n",
       "    .dataframe tbody tr th {\n",
       "        vertical-align: top;\n",
       "    }\n",
       "\n",
       "    .dataframe thead th {\n",
       "        text-align: right;\n",
       "    }\n",
       "</style>\n",
       "<table border=\"1\" class=\"dataframe\">\n",
       "  <thead>\n",
       "    <tr style=\"text-align: right;\">\n",
       "      <th></th>\n",
       "      <th>log_r</th>\n",
       "      <th>boxcox_f</th>\n",
       "      <th>boxcox_m</th>\n",
       "    </tr>\n",
       "  </thead>\n",
       "  <tbody>\n",
       "    <tr>\n",
       "      <th>0</th>\n",
       "      <td>1.367169</td>\n",
       "      <td>-0.285525</td>\n",
       "      <td>-3.261271</td>\n",
       "    </tr>\n",
       "    <tr>\n",
       "      <th>1</th>\n",
       "      <td>-2.371503</td>\n",
       "      <td>0.995721</td>\n",
       "      <td>1.393038</td>\n",
       "    </tr>\n",
       "    <tr>\n",
       "      <th>2</th>\n",
       "      <td>0.410650</td>\n",
       "      <td>0.488458</td>\n",
       "      <td>0.667897</td>\n",
       "    </tr>\n",
       "    <tr>\n",
       "      <th>3</th>\n",
       "      <td>-0.503163</td>\n",
       "      <td>-1.259568</td>\n",
       "      <td>0.650338</td>\n",
       "    </tr>\n",
       "    <tr>\n",
       "      <th>4</th>\n",
       "      <td>1.334536</td>\n",
       "      <td>-1.259568</td>\n",
       "      <td>-0.534019</td>\n",
       "    </tr>\n",
       "  </tbody>\n",
       "</table>\n",
       "</div>"
      ],
      "text/plain": [
       "      log_r  boxcox_f  boxcox_m\n",
       "0  1.367169 -0.285525 -3.261271\n",
       "1 -2.371503  0.995721  1.393038\n",
       "2  0.410650  0.488458  0.667897\n",
       "3 -0.503163 -1.259568  0.650338\n",
       "4  1.334536 -1.259568 -0.534019"
      ]
     },
     "execution_count": 41,
     "metadata": {},
     "output_type": "execute_result"
    }
   ],
   "source": [
    "scaler = StandardScaler()\n",
    "\n",
    "# fit_transform\n",
    "newdata_rescaled = scaler.fit_transform(newdata)\n",
    "newdata_rescaled.shape\n",
    "\n",
    "newdata_rescaled = pd.DataFrame(newdata_rescaled)\n",
    "newdata_rescaled.columns = ['log_r', 'boxcox_f', 'boxcox_m']\n",
    "newdata_rescaled.head()"
   ]
  },
  {
   "cell_type": "markdown",
   "id": "663f3380",
   "metadata": {
    "ExecuteTime": {
     "end_time": "2023-09-14T11:00:45.038479Z",
     "start_time": "2023-09-14T11:00:44.555139Z"
    }
   },
   "source": [
    "### Finding the Optimal Number of Clusters(n_clusters) using the elbow- method"
   ]
  },
  {
   "cell_type": "code",
   "execution_count": 42,
   "id": "1ef9c7ac",
   "metadata": {
    "ExecuteTime": {
     "end_time": "2023-11-15T08:00:37.149666Z",
     "start_time": "2023-11-15T08:00:37.136645Z"
    }
   },
   "outputs": [],
   "source": [
    "# this is used to suppress the warnings\n",
    "import warnings\n",
    "warnings.filterwarnings('ignore')"
   ]
  },
  {
   "cell_type": "code",
   "execution_count": 47,
   "id": "2ccc0469",
   "metadata": {
    "ExecuteTime": {
     "end_time": "2023-11-15T08:04:54.101112Z",
     "start_time": "2023-11-15T08:04:52.206112Z"
    }
   },
   "outputs": [
    {
     "data": {
      "text/plain": [
       "[<matplotlib.lines.Line2D at 0x1ca38b31250>]"
      ]
     },
     "execution_count": 47,
     "metadata": {},
     "output_type": "execute_result"
    },
    {
     "data": {
      "image/png": "[encoded data removed]",
      "text/plain": [
       "<Figure size 640x480 with 1 Axes>"
      ]
     },
     "metadata": {},
     "output_type": "display_data"
    }
   ],
   "source": [
    "lst = []\n",
    "range_n_clusters = np.arange(1,11)\n",
    "for num_clusters in range_n_clusters:\n",
    "    kmeans = KMeans(n_clusters=num_clusters, max_iter=50)\n",
    "    kmeans.fit(newdata_rescaled)\n",
    "    lst.append(kmeans.inertia_)\n",
    "    \n",
    "# Plotting\n",
    "plt.plot(lst)"
   ]
  },
  {
   "cell_type": "code",
   "execution_count": 54,
   "id": "fb984744",
   "metadata": {
    "ExecuteTime": {
     "end_time": "2023-11-15T08:17:47.937211Z",
     "start_time": "2023-11-15T08:17:47.920186Z"
    }
   },
   "outputs": [
    {
     "name": "stdout",
     "output_type": "stream",
     "text": [
      "[13116.000000000007, 6593.907761138456, 5026.90823342174, 4206.881781653058, 3591.92646770756, 3144.931160474192, 2780.2018879035472, 2466.724179730345, 2232.1972737459987, 2052.4303908551165]\n"
     ]
    }
   ],
   "source": [
    "print(lst)"
   ]
  },
  {
   "cell_type": "code",
   "execution_count": 43,
   "id": "256534af",
   "metadata": {
    "ExecuteTime": {
     "end_time": "2023-11-15T08:01:40.382515Z",
     "start_time": "2023-11-15T08:01:17.754306Z"
    }
   },
   "outputs": [
    {
     "name": "stdout",
     "output_type": "stream",
     "text": [
      "Collecting kneed\n",
      "  Downloading kneed-0.8.5-py3-none-any.whl (10 kB)\n",
      "Requirement already satisfied: numpy>=1.14.2 in c:\\users\\hp pc\\desktop\\dl1\\lib\\site-packages (from kneed) (1.23.5)\n",
      "Requirement already satisfied: scipy>=1.0.0 in c:\\users\\hp pc\\desktop\\dl1\\lib\\site-packages (from kneed) (1.10.1)\n",
      "Installing collected packages: kneed\n",
      "Successfully installed kneed-0.8.5\n"
     ]
    },
    {
     "name": "stderr",
     "output_type": "stream",
     "text": [
      "\n",
      "[notice] A new release of pip is available: 23.1.2 -> 23.3.1\n",
      "[notice] To update, run: python.exe -m pip install --upgrade pip\n"
     ]
    }
   ],
   "source": [
    "!pip install kneed"
   ]
  },
  {
   "cell_type": "code",
   "execution_count": 44,
   "id": "3ab6c76e",
   "metadata": {
    "ExecuteTime": {
     "end_time": "2023-11-15T08:02:17.993430Z",
     "start_time": "2023-11-15T08:02:17.978408Z"
    }
   },
   "outputs": [],
   "source": [
    "from kneed import KneeLocator"
   ]
  },
  {
   "cell_type": "code",
   "execution_count": 53,
   "id": "bccb600d",
   "metadata": {
    "ExecuteTime": {
     "end_time": "2023-11-15T08:10:11.915400Z",
     "start_time": "2023-11-15T08:10:11.895369Z"
    }
   },
   "outputs": [
    {
     "data": {
      "text/plain": [
       "3"
      ]
     },
     "execution_count": 53,
     "metadata": {},
     "output_type": "execute_result"
    }
   ],
   "source": [
    "kl = KneeLocator(range(1,11), lst, curve= 'convex', direction= 'decreasing')\n",
    "kl.elbow\n",
    "\n",
    "## By using KneeLocator you can directly find the best elbow value   \n"
   ]
  },
  {
   "cell_type": "code",
   "execution_count": null,
   "id": "892c8dbc",
   "metadata": {},
   "outputs": [],
   "source": []
  },
  {
   "cell_type": "markdown",
   "id": "3d8f20a6",
   "metadata": {},
   "source": [
    "#### By using Elbow method we identified the best n_clusters in 2"
   ]
  },
  {
   "cell_type": "code",
   "execution_count": 575,
   "id": "80a5aa27",
   "metadata": {
    "ExecuteTime": {
     "end_time": "2023-09-14T11:37:24.980842Z",
     "start_time": "2023-09-14T11:37:24.739472Z"
    }
   },
   "outputs": [
    {
     "data": {
      "text/html": [
       "<style>#sk-container-id-11 {color: black;background-color: white;}#sk-container-id-11 pre{padding: 0;}#sk-container-id-11 div.sk-toggleable {background-color: white;}#sk-container-id-11 label.sk-toggleable__label {cursor: pointer;display: block;width: 100%;margin-bottom: 0;padding: 0.3em;box-sizing: border-box;text-align: center;}#sk-container-id-11 label.sk-toggleable__label-arrow:before {content: \"▸\";float: left;margin-right: 0.25em;color: #696969;}#sk-container-id-11 label.sk-toggleable__label-arrow:hover:before {color: black;}#sk-container-id-11 div.sk-estimator:hover label.sk-toggleable__label-arrow:before {color: black;}#sk-container-id-11 div.sk-toggleable__content {max-height: 0;max-width: 0;overflow: hidden;text-align: left;background-color: #f0f8ff;}#sk-container-id-11 div.sk-toggleable__content pre {margin: 0.2em;color: black;border-radius: 0.25em;background-color: #f0f8ff;}#sk-container-id-11 input.sk-toggleable__control:checked~div.sk-toggleable__content {max-height: 200px;max-width: 100%;overflow: auto;}#sk-container-id-11 input.sk-toggleable__control:checked~label.sk-toggleable__label-arrow:before {content: \"▾\";}#sk-container-id-11 div.sk-estimator input.sk-toggleable__control:checked~label.sk-toggleable__label {background-color: #d4ebff;}#sk-container-id-11 div.sk-label input.sk-toggleable__control:checked~label.sk-toggleable__label {background-color: #d4ebff;}#sk-container-id-11 input.sk-hidden--visually {border: 0;clip: rect(1px 1px 1px 1px);clip: rect(1px, 1px, 1px, 1px);height: 1px;margin: -1px;overflow: hidden;padding: 0;position: absolute;width: 1px;}#sk-container-id-11 div.sk-estimator {font-family: monospace;background-color: #f0f8ff;border: 1px dotted black;border-radius: 0.25em;box-sizing: border-box;margin-bottom: 0.5em;}#sk-container-id-11 div.sk-estimator:hover {background-color: #d4ebff;}#sk-container-id-11 div.sk-parallel-item::after {content: \"\";width: 100%;border-bottom: 1px solid gray;flex-grow: 1;}#sk-container-id-11 div.sk-label:hover label.sk-toggleable__label {background-color: #d4ebff;}#sk-container-id-11 div.sk-serial::before {content: \"\";position: absolute;border-left: 1px solid gray;box-sizing: border-box;top: 0;bottom: 0;left: 50%;z-index: 0;}#sk-container-id-11 div.sk-serial {display: flex;flex-direction: column;align-items: center;background-color: white;padding-right: 0.2em;padding-left: 0.2em;position: relative;}#sk-container-id-11 div.sk-item {position: relative;z-index: 1;}#sk-container-id-11 div.sk-parallel {display: flex;align-items: stretch;justify-content: center;background-color: white;position: relative;}#sk-container-id-11 div.sk-item::before, #sk-container-id-11 div.sk-parallel-item::before {content: \"\";position: absolute;border-left: 1px solid gray;box-sizing: border-box;top: 0;bottom: 0;left: 50%;z-index: -1;}#sk-container-id-11 div.sk-parallel-item {display: flex;flex-direction: column;z-index: 1;position: relative;background-color: white;}#sk-container-id-11 div.sk-parallel-item:first-child::after {align-self: flex-end;width: 50%;}#sk-container-id-11 div.sk-parallel-item:last-child::after {align-self: flex-start;width: 50%;}#sk-container-id-11 div.sk-parallel-item:only-child::after {width: 0;}#sk-container-id-11 div.sk-dashed-wrapped {border: 1px dashed gray;margin: 0 0.4em 0.5em 0.4em;box-sizing: border-box;padding-bottom: 0.4em;background-color: white;}#sk-container-id-11 div.sk-label label {font-family: monospace;font-weight: bold;display: inline-block;line-height: 1.2em;}#sk-container-id-11 div.sk-label-container {text-align: center;}#sk-container-id-11 div.sk-container {/* jupyter's `normalize.less` sets `[hidden] { display: none; }` but bootstrap.min.css set `[hidden] { display: none !important; }` so we also need the `!important` here to be able to override the default hidden behavior on the sphinx rendered scikit-learn.org. See: https://github.com/scikit-learn/scikit-learn/issues/21755 */display: inline-block !important;position: relative;}#sk-container-id-11 div.sk-text-repr-fallback {display: none;}</style><div id=\"sk-container-id-11\" class=\"sk-top-container\"><div class=\"sk-text-repr-fallback\"><pre>KMeans(max_iter=50, n_clusters=2)</pre><b>In a Jupyter environment, please rerun this cell to show the HTML representation or trust the notebook. <br />On GitHub, the HTML representation is unable to render, please try loading this page with nbviewer.org.</b></div><div class=\"sk-container\" hidden><div class=\"sk-item\"><div class=\"sk-estimator sk-toggleable\"><input class=\"sk-toggleable__control sk-hidden--visually\" id=\"sk-estimator-id-11\" type=\"checkbox\" checked><label for=\"sk-estimator-id-11\" class=\"sk-toggleable__label sk-toggleable__label-arrow\">KMeans</label><div class=\"sk-toggleable__content\"><pre>KMeans(max_iter=50, n_clusters=2)</pre></div></div></div></div></div>"
      ],
      "text/plain": [
       "KMeans(max_iter=50, n_clusters=2)"
      ]
     },
     "execution_count": 575,
     "metadata": {},
     "output_type": "execute_result"
    }
   ],
   "source": [
    "model = KMeans(n_clusters=2 , max_iter=50)\n",
    "model.fit(newdata_rescaled)"
   ]
  },
  {
   "cell_type": "code",
   "execution_count": 576,
   "id": "e30d3353",
   "metadata": {
    "ExecuteTime": {
     "end_time": "2023-09-14T11:37:46.496233Z",
     "start_time": "2023-09-14T11:37:46.470192Z"
    }
   },
   "outputs": [
    {
     "data": {
      "text/plain": [
       "array([0, 1, 1, ..., 1, 1, 1])"
      ]
     },
     "execution_count": 576,
     "metadata": {},
     "output_type": "execute_result"
    }
   ],
   "source": [
    "model.labels_ # Display the labels each of the clusters"
   ]
  },
  {
   "cell_type": "code",
   "execution_count": 577,
   "id": "0e862244",
   "metadata": {
    "ExecuteTime": {
     "end_time": "2023-09-14T11:38:12.151815Z",
     "start_time": "2023-09-14T11:38:12.006594Z"
    }
   },
   "outputs": [
    {
     "data": {
      "text/html": [
       "<div>\n",
       "<style scoped>\n",
       "    .dataframe tbody tr th:only-of-type {\n",
       "        vertical-align: middle;\n",
       "    }\n",
       "\n",
       "    .dataframe tbody tr th {\n",
       "        vertical-align: top;\n",
       "    }\n",
       "\n",
       "    .dataframe thead th {\n",
       "        text-align: right;\n",
       "    }\n",
       "</style>\n",
       "<table border=\"1\" class=\"dataframe\">\n",
       "  <thead>\n",
       "    <tr style=\"text-align: right;\">\n",
       "      <th></th>\n",
       "      <th>log_r</th>\n",
       "      <th>boxcox_f</th>\n",
       "      <th>boxcox_m</th>\n",
       "      <th>cluster_id</th>\n",
       "    </tr>\n",
       "  </thead>\n",
       "  <tbody>\n",
       "    <tr>\n",
       "      <th>0</th>\n",
       "      <td>5.783825</td>\n",
       "      <td>0.619239</td>\n",
       "      <td>0.000000</td>\n",
       "      <td>0</td>\n",
       "    </tr>\n",
       "    <tr>\n",
       "      <th>1</th>\n",
       "      <td>0.000000</td>\n",
       "      <td>1.433779</td>\n",
       "      <td>14.206518</td>\n",
       "      <td>1</td>\n",
       "    </tr>\n",
       "    <tr>\n",
       "      <th>2</th>\n",
       "      <td>4.304065</td>\n",
       "      <td>1.111291</td>\n",
       "      <td>11.993144</td>\n",
       "      <td>1</td>\n",
       "    </tr>\n",
       "    <tr>\n",
       "      <th>3</th>\n",
       "      <td>2.890372</td>\n",
       "      <td>0.000000</td>\n",
       "      <td>11.939547</td>\n",
       "      <td>0</td>\n",
       "    </tr>\n",
       "    <tr>\n",
       "      <th>4</th>\n",
       "      <td>5.733341</td>\n",
       "      <td>0.000000</td>\n",
       "      <td>8.324491</td>\n",
       "      <td>0</td>\n",
       "    </tr>\n",
       "  </tbody>\n",
       "</table>\n",
       "</div>"
      ],
      "text/plain": [
       "      log_r  boxcox_f   boxcox_m  cluster_id\n",
       "0  5.783825  0.619239   0.000000           0\n",
       "1  0.000000  1.433779  14.206518           1\n",
       "2  4.304065  1.111291  11.993144           1\n",
       "3  2.890372  0.000000  11.939547           0\n",
       "4  5.733341  0.000000   8.324491           0"
      ]
     },
     "execution_count": 577,
     "metadata": {},
     "output_type": "execute_result"
    }
   ],
   "source": [
    "# assign the label\n",
    "newdata['cluster_id'] = model.labels_\n",
    "newdata.head()"
   ]
  },
  {
   "cell_type": "code",
   "execution_count": 578,
   "id": "f4665359",
   "metadata": {
    "ExecuteTime": {
     "end_time": "2023-09-14T11:38:38.949556Z",
     "start_time": "2023-09-14T11:38:38.936532Z"
    }
   },
   "outputs": [
    {
     "data": {
      "text/plain": [
       "cluster_id\n",
       "0    0.559012\n",
       "1    0.440988\n",
       "Name: proportion, dtype: float64"
      ]
     },
     "execution_count": 578,
     "metadata": {},
     "output_type": "execute_result"
    }
   ],
   "source": [
    "newdata[\"cluster_id\"].value_counts(normalize=True)"
   ]
  },
  {
   "cell_type": "code",
   "execution_count": 588,
   "id": "327cdbf2",
   "metadata": {
    "ExecuteTime": {
     "end_time": "2023-09-14T11:50:45.276198Z",
     "start_time": "2023-09-14T11:50:44.643900Z"
    }
   },
   "outputs": [
    {
     "data": {
      "image/png": "[encoded data removed]",
      "text/plain": [
       "<Figure size 800x400 with 2 Axes>"
      ]
     },
     "metadata": {},
     "output_type": "display_data"
    }
   ],
   "source": [
    "plt.figure(figsize=(8,4))\n",
    "plt.subplot(121)\n",
    "sns.countplot(x= newdata[\"cluster_id\"])\n",
    "plt.subplot(122)\n",
    "plt.pie(newdata[\"cluster_id\"].value_counts().values, labels=newdata[\"cluster_id\"].value_counts().index, autopct='%.2f%%');"
   ]
  },
  {
   "cell_type": "markdown",
   "id": "cf6d4480",
   "metadata": {},
   "source": [
    "By observing the above plots we can see that target variable is normally distributed"
   ]
  },
  {
   "cell_type": "code",
   "execution_count": 581,
   "id": "7768e016",
   "metadata": {
    "ExecuteTime": {
     "end_time": "2023-09-14T11:40:53.195957Z",
     "start_time": "2023-09-14T11:40:52.494659Z"
    }
   },
   "outputs": [
    {
     "data": {
      "text/plain": [
       "<matplotlib.collections.PathCollection at 0x189228f8fd0>"
      ]
     },
     "execution_count": 581,
     "metadata": {},
     "output_type": "execute_result"
    },
    {
     "data": {
      "text/plain": [
       "Text(0.5, 1.0, 'K Mean Clustering')"
      ]
     },
     "execution_count": 581,
     "metadata": {},
     "output_type": "execute_result"
    },
    {
     "data": {
      "image/png": "[encoded data removed]",
      "text/plain": [
       "<Figure size 640x480 with 1 Axes>"
      ]
     },
     "metadata": {},
     "output_type": "display_data"
    }
   ],
   "source": [
    "# Create a colormap\n",
    "colormap = np.array(['red', 'green'])\n",
    " \n",
    "# Plot the Original Classifications\n",
    "plt.scatter(newdata[\"boxcox_f\"], newdata[\"boxcox_m\"], c=colormap[model.labels_])\n",
    "plt.title('K Mean Clustering')"
   ]
  },
  {
   "cell_type": "code",
   "execution_count": 582,
   "id": "e08e7e88",
   "metadata": {
    "ExecuteTime": {
     "end_time": "2023-09-14T11:41:59.094123Z",
     "start_time": "2023-09-14T11:41:58.598756Z"
    }
   },
   "outputs": [
    {
     "data": {
      "text/plain": [
       "<Axes: xlabel='cluster_id', ylabel='boxcox_m'>"
      ]
     },
     "execution_count": 582,
     "metadata": {},
     "output_type": "execute_result"
    },
    {
     "data": {
      "image/png": "[encoded data removed]",
      "text/plain": [
       "<Figure size 640x480 with 1 Axes>"
      ]
     },
     "metadata": {},
     "output_type": "display_data"
    }
   ],
   "source": [
    "sns.boxplot(x=newdata[\"cluster_id\"], y=newdata[\"boxcox_m\"])"
   ]
  },
  {
   "cell_type": "markdown",
   "id": "8ccab6a9",
   "metadata": {},
   "source": [
    "cluster1 and cluster2 are normally distributed"
   ]
  },
  {
   "cell_type": "code",
   "execution_count": 583,
   "id": "04eabf39",
   "metadata": {
    "ExecuteTime": {
     "end_time": "2023-09-14T11:44:18.334267Z",
     "start_time": "2023-09-14T11:44:18.308227Z"
    }
   },
   "outputs": [
    {
     "data": {
      "text/html": [
       "<div>\n",
       "<style scoped>\n",
       "    .dataframe tbody tr th:only-of-type {\n",
       "        vertical-align: middle;\n",
       "    }\n",
       "\n",
       "    .dataframe tbody tr th {\n",
       "        vertical-align: top;\n",
       "    }\n",
       "\n",
       "    .dataframe thead th {\n",
       "        text-align: right;\n",
       "    }\n",
       "</style>\n",
       "<table border=\"1\" class=\"dataframe\">\n",
       "  <thead>\n",
       "    <tr style=\"text-align: right;\">\n",
       "      <th></th>\n",
       "      <th>log_r</th>\n",
       "      <th>boxcox_f</th>\n",
       "      <th>boxcox_m</th>\n",
       "      <th>cluster_id</th>\n",
       "    </tr>\n",
       "  </thead>\n",
       "  <tbody>\n",
       "    <tr>\n",
       "      <th>0</th>\n",
       "      <td>5.783825</td>\n",
       "      <td>0.619239</td>\n",
       "      <td>0.000000</td>\n",
       "      <td>0</td>\n",
       "    </tr>\n",
       "    <tr>\n",
       "      <th>1</th>\n",
       "      <td>0.000000</td>\n",
       "      <td>1.433779</td>\n",
       "      <td>14.206518</td>\n",
       "      <td>1</td>\n",
       "    </tr>\n",
       "    <tr>\n",
       "      <th>2</th>\n",
       "      <td>4.304065</td>\n",
       "      <td>1.111291</td>\n",
       "      <td>11.993144</td>\n",
       "      <td>1</td>\n",
       "    </tr>\n",
       "    <tr>\n",
       "      <th>3</th>\n",
       "      <td>2.890372</td>\n",
       "      <td>0.000000</td>\n",
       "      <td>11.939547</td>\n",
       "      <td>0</td>\n",
       "    </tr>\n",
       "    <tr>\n",
       "      <th>4</th>\n",
       "      <td>5.733341</td>\n",
       "      <td>0.000000</td>\n",
       "      <td>8.324491</td>\n",
       "      <td>0</td>\n",
       "    </tr>\n",
       "    <tr>\n",
       "      <th>...</th>\n",
       "      <td>...</td>\n",
       "      <td>...</td>\n",
       "      <td>...</td>\n",
       "      <td>...</td>\n",
       "    </tr>\n",
       "    <tr>\n",
       "      <th>4367</th>\n",
       "      <td>5.624018</td>\n",
       "      <td>0.000000</td>\n",
       "      <td>7.151212</td>\n",
       "      <td>0</td>\n",
       "    </tr>\n",
       "    <tr>\n",
       "      <th>4368</th>\n",
       "      <td>5.192957</td>\n",
       "      <td>0.000000</td>\n",
       "      <td>5.741736</td>\n",
       "      <td>0</td>\n",
       "    </tr>\n",
       "    <tr>\n",
       "      <th>4369</th>\n",
       "      <td>1.945910</td>\n",
       "      <td>0.920699</td>\n",
       "      <td>7.110129</td>\n",
       "      <td>1</td>\n",
       "    </tr>\n",
       "    <tr>\n",
       "      <th>4370</th>\n",
       "      <td>1.098612</td>\n",
       "      <td>1.812962</td>\n",
       "      <td>12.364742</td>\n",
       "      <td>1</td>\n",
       "    </tr>\n",
       "    <tr>\n",
       "      <th>4371</th>\n",
       "      <td>3.737670</td>\n",
       "      <td>0.920699</td>\n",
       "      <td>12.046165</td>\n",
       "      <td>1</td>\n",
       "    </tr>\n",
       "  </tbody>\n",
       "</table>\n",
       "<p>4372 rows × 4 columns</p>\n",
       "</div>"
      ],
      "text/plain": [
       "         log_r  boxcox_f   boxcox_m  cluster_id\n",
       "0     5.783825  0.619239   0.000000           0\n",
       "1     0.000000  1.433779  14.206518           1\n",
       "2     4.304065  1.111291  11.993144           1\n",
       "3     2.890372  0.000000  11.939547           0\n",
       "4     5.733341  0.000000   8.324491           0\n",
       "...        ...       ...        ...         ...\n",
       "4367  5.624018  0.000000   7.151212           0\n",
       "4368  5.192957  0.000000   5.741736           0\n",
       "4369  1.945910  0.920699   7.110129           1\n",
       "4370  1.098612  1.812962  12.364742           1\n",
       "4371  3.737670  0.920699  12.046165           1\n",
       "\n",
       "[4372 rows x 4 columns]"
      ]
     },
     "execution_count": 583,
     "metadata": {},
     "output_type": "execute_result"
    }
   ],
   "source": [
    "newdata"
   ]
  },
  {
   "cell_type": "markdown",
   "id": "117bb0f6",
   "metadata": {
    "ExecuteTime": {
     "end_time": "2023-09-14T11:44:41.202694Z",
     "start_time": "2023-09-14T11:44:41.196683Z"
    }
   },
   "source": [
    "### Model Building"
   ]
  },
  {
   "cell_type": "markdown",
   "id": "6b94a7ba",
   "metadata": {
    "ExecuteTime": {
     "end_time": "2023-09-14T11:45:09.800639Z",
     "start_time": "2023-09-14T11:45:09.795632Z"
    }
   },
   "source": [
    "### segregate the input and target variable"
   ]
  },
  {
   "cell_type": "code",
   "execution_count": 589,
   "id": "f3f1514c",
   "metadata": {
    "ExecuteTime": {
     "end_time": "2023-09-14T11:52:36.159636Z",
     "start_time": "2023-09-14T11:52:36.148620Z"
    }
   },
   "outputs": [],
   "source": [
    "X = newdata[[\"log_r\",\"boxcox_f\",\"boxcox_m\"]]\n",
    "y = newdata[\"cluster_id\"]"
   ]
  },
  {
   "cell_type": "markdown",
   "id": "4aa2dd62",
   "metadata": {
    "ExecuteTime": {
     "end_time": "2023-09-14T11:52:50.225741Z",
     "start_time": "2023-09-14T11:52:50.220733Z"
    }
   },
   "source": [
    "### Separating the train and test data"
   ]
  },
  {
   "cell_type": "code",
   "execution_count": 591,
   "id": "251b0b54",
   "metadata": {
    "ExecuteTime": {
     "end_time": "2023-09-14T11:53:34.565914Z",
     "start_time": "2023-09-14T11:53:34.355594Z"
    }
   },
   "outputs": [
    {
     "name": "stdout",
     "output_type": "stream",
     "text": [
      "(3279, 3) (3279,)\n",
      "(1093, 3) (1093,)\n"
     ]
    }
   ],
   "source": [
    "# Data-preprocessing: Train Test Split\n",
    "\n",
    "from sklearn.model_selection import train_test_split\n",
    "X_train, X_test, y_train, y_test = train_test_split(X, y, train_size= 0.75, random_state = 42)\n",
    "\n",
    "print(X_train.shape, y_train.shape)\n",
    "print(X_test.shape, y_test.shape)"
   ]
  },
  {
   "cell_type": "markdown",
   "id": "1c1f8ba2",
   "metadata": {},
   "source": [
    "### Applying the Transformation techniques on train data"
   ]
  },
  {
   "cell_type": "code",
   "execution_count": 593,
   "id": "1ff89d72",
   "metadata": {
    "ExecuteTime": {
     "end_time": "2023-09-14T11:57:09.893439Z",
     "start_time": "2023-09-14T11:57:09.865395Z"
    }
   },
   "outputs": [
    {
     "data": {
      "text/html": [
       "<div>\n",
       "<style scoped>\n",
       "    .dataframe tbody tr th:only-of-type {\n",
       "        vertical-align: middle;\n",
       "    }\n",
       "\n",
       "    .dataframe tbody tr th {\n",
       "        vertical-align: top;\n",
       "    }\n",
       "\n",
       "    .dataframe thead th {\n",
       "        text-align: right;\n",
       "    }\n",
       "</style>\n",
       "<table border=\"1\" class=\"dataframe\">\n",
       "  <thead>\n",
       "    <tr style=\"text-align: right;\">\n",
       "      <th></th>\n",
       "      <th>log_r</th>\n",
       "      <th>boxcox_f</th>\n",
       "      <th>boxcox_m</th>\n",
       "    </tr>\n",
       "  </thead>\n",
       "  <tbody>\n",
       "    <tr>\n",
       "      <th>2344</th>\n",
       "      <td>1.148777</td>\n",
       "      <td>-1.263017</td>\n",
       "      <td>-0.685081</td>\n",
       "    </tr>\n",
       "    <tr>\n",
       "      <th>418</th>\n",
       "      <td>1.272511</td>\n",
       "      <td>-1.263017</td>\n",
       "      <td>-0.467306</td>\n",
       "    </tr>\n",
       "    <tr>\n",
       "      <th>3778</th>\n",
       "      <td>0.402126</td>\n",
       "      <td>-0.290016</td>\n",
       "      <td>-0.263776</td>\n",
       "    </tr>\n",
       "    <tr>\n",
       "      <th>257</th>\n",
       "      <td>-0.881518</td>\n",
       "      <td>0.696529</td>\n",
       "      <td>0.325402</td>\n",
       "    </tr>\n",
       "    <tr>\n",
       "      <th>295</th>\n",
       "      <td>-0.664246</td>\n",
       "      <td>1.500138</td>\n",
       "      <td>1.811176</td>\n",
       "    </tr>\n",
       "  </tbody>\n",
       "</table>\n",
       "</div>"
      ],
      "text/plain": [
       "         log_r  boxcox_f  boxcox_m\n",
       "2344  1.148777 -1.263017 -0.685081\n",
       "418   1.272511 -1.263017 -0.467306\n",
       "3778  0.402126 -0.290016 -0.263776\n",
       "257  -0.881518  0.696529  0.325402\n",
       "295  -0.664246  1.500138  1.811176"
      ]
     },
     "execution_count": 593,
     "metadata": {},
     "output_type": "execute_result"
    }
   ],
   "source": [
    "from sklearn.preprocessing import StandardScaler\n",
    "scaler = StandardScaler()\n",
    "\n",
    "# Rescaling the train Numerical data.\n",
    "X_train_transformed = pd.DataFrame(scaler.fit_transform(X_train),\n",
    "                                      columns= X_train.columns,\n",
    "                                      index= X_train.index)\n",
    "\n",
    "X_train_transformed.head()"
   ]
  },
  {
   "cell_type": "markdown",
   "id": "bdb5065a",
   "metadata": {},
   "source": [
    "### Applying the Transformation techniques on test data"
   ]
  },
  {
   "cell_type": "code",
   "execution_count": 594,
   "id": "17dfaf66",
   "metadata": {
    "ExecuteTime": {
     "end_time": "2023-09-14T11:57:13.696218Z",
     "start_time": "2023-09-14T11:57:13.674182Z"
    }
   },
   "outputs": [
    {
     "data": {
      "text/html": [
       "<div>\n",
       "<style scoped>\n",
       "    .dataframe tbody tr th:only-of-type {\n",
       "        vertical-align: middle;\n",
       "    }\n",
       "\n",
       "    .dataframe tbody tr th {\n",
       "        vertical-align: top;\n",
       "    }\n",
       "\n",
       "    .dataframe thead th {\n",
       "        text-align: right;\n",
       "    }\n",
       "</style>\n",
       "<table border=\"1\" class=\"dataframe\">\n",
       "  <thead>\n",
       "    <tr style=\"text-align: right;\">\n",
       "      <th></th>\n",
       "      <th>log_r</th>\n",
       "      <th>boxcox_f</th>\n",
       "      <th>boxcox_m</th>\n",
       "    </tr>\n",
       "  </thead>\n",
       "  <tbody>\n",
       "    <tr>\n",
       "      <th>2014</th>\n",
       "      <td>1.090563</td>\n",
       "      <td>0.696529</td>\n",
       "      <td>0.137221</td>\n",
       "    </tr>\n",
       "    <tr>\n",
       "      <th>457</th>\n",
       "      <td>0.436573</td>\n",
       "      <td>0.483139</td>\n",
       "      <td>-0.406557</td>\n",
       "    </tr>\n",
       "    <tr>\n",
       "      <th>478</th>\n",
       "      <td>1.325434</td>\n",
       "      <td>-1.263017</td>\n",
       "      <td>-1.229074</td>\n",
       "    </tr>\n",
       "    <tr>\n",
       "      <th>438</th>\n",
       "      <td>-0.538872</td>\n",
       "      <td>-0.290016</td>\n",
       "      <td>-0.259647</td>\n",
       "    </tr>\n",
       "    <tr>\n",
       "      <th>3728</th>\n",
       "      <td>-0.819973</td>\n",
       "      <td>0.483139</td>\n",
       "      <td>0.009583</td>\n",
       "    </tr>\n",
       "  </tbody>\n",
       "</table>\n",
       "</div>"
      ],
      "text/plain": [
       "         log_r  boxcox_f  boxcox_m\n",
       "2014  1.090563  0.696529  0.137221\n",
       "457   0.436573  0.483139 -0.406557\n",
       "478   1.325434 -1.263017 -1.229074\n",
       "438  -0.538872 -0.290016 -0.259647\n",
       "3728 -0.819973  0.483139  0.009583"
      ]
     },
     "execution_count": 594,
     "metadata": {},
     "output_type": "execute_result"
    }
   ],
   "source": [
    "# Rescaling the test Numerical data.\n",
    "X_test_transformed = pd.DataFrame(scaler.transform(X_test), \n",
    "                                   columns = X_test.columns, \n",
    "                                   index = X_test.index)\n",
    "\n",
    "X_test_transformed.head()"
   ]
  },
  {
   "cell_type": "markdown",
   "id": "a62a29c9",
   "metadata": {},
   "source": [
    "### Training - Decision Tree Classifier"
   ]
  },
  {
   "cell_type": "code",
   "execution_count": 604,
   "id": "45bde882",
   "metadata": {
    "ExecuteTime": {
     "end_time": "2023-09-14T12:08:31.954449Z",
     "start_time": "2023-09-14T12:08:31.911383Z"
    }
   },
   "outputs": [
    {
     "data": {
      "text/html": [
       "<style>#sk-container-id-19 {color: black;background-color: white;}#sk-container-id-19 pre{padding: 0;}#sk-container-id-19 div.sk-toggleable {background-color: white;}#sk-container-id-19 label.sk-toggleable__label {cursor: pointer;display: block;width: 100%;margin-bottom: 0;padding: 0.3em;box-sizing: border-box;text-align: center;}#sk-container-id-19 label.sk-toggleable__label-arrow:before {content: \"▸\";float: left;margin-right: 0.25em;color: #696969;}#sk-container-id-19 label.sk-toggleable__label-arrow:hover:before {color: black;}#sk-container-id-19 div.sk-estimator:hover label.sk-toggleable__label-arrow:before {color: black;}#sk-container-id-19 div.sk-toggleable__content {max-height: 0;max-width: 0;overflow: hidden;text-align: left;background-color: #f0f8ff;}#sk-container-id-19 div.sk-toggleable__content pre {margin: 0.2em;color: black;border-radius: 0.25em;background-color: #f0f8ff;}#sk-container-id-19 input.sk-toggleable__control:checked~div.sk-toggleable__content {max-height: 200px;max-width: 100%;overflow: auto;}#sk-container-id-19 input.sk-toggleable__control:checked~label.sk-toggleable__label-arrow:before {content: \"▾\";}#sk-container-id-19 div.sk-estimator input.sk-toggleable__control:checked~label.sk-toggleable__label {background-color: #d4ebff;}#sk-container-id-19 div.sk-label input.sk-toggleable__control:checked~label.sk-toggleable__label {background-color: #d4ebff;}#sk-container-id-19 input.sk-hidden--visually {border: 0;clip: rect(1px 1px 1px 1px);clip: rect(1px, 1px, 1px, 1px);height: 1px;margin: -1px;overflow: hidden;padding: 0;position: absolute;width: 1px;}#sk-container-id-19 div.sk-estimator {font-family: monospace;background-color: #f0f8ff;border: 1px dotted black;border-radius: 0.25em;box-sizing: border-box;margin-bottom: 0.5em;}#sk-container-id-19 div.sk-estimator:hover {background-color: #d4ebff;}#sk-container-id-19 div.sk-parallel-item::after {content: \"\";width: 100%;border-bottom: 1px solid gray;flex-grow: 1;}#sk-container-id-19 div.sk-label:hover label.sk-toggleable__label {background-color: #d4ebff;}#sk-container-id-19 div.sk-serial::before {content: \"\";position: absolute;border-left: 1px solid gray;box-sizing: border-box;top: 0;bottom: 0;left: 50%;z-index: 0;}#sk-container-id-19 div.sk-serial {display: flex;flex-direction: column;align-items: center;background-color: white;padding-right: 0.2em;padding-left: 0.2em;position: relative;}#sk-container-id-19 div.sk-item {position: relative;z-index: 1;}#sk-container-id-19 div.sk-parallel {display: flex;align-items: stretch;justify-content: center;background-color: white;position: relative;}#sk-container-id-19 div.sk-item::before, #sk-container-id-19 div.sk-parallel-item::before {content: \"\";position: absolute;border-left: 1px solid gray;box-sizing: border-box;top: 0;bottom: 0;left: 50%;z-index: -1;}#sk-container-id-19 div.sk-parallel-item {display: flex;flex-direction: column;z-index: 1;position: relative;background-color: white;}#sk-container-id-19 div.sk-parallel-item:first-child::after {align-self: flex-end;width: 50%;}#sk-container-id-19 div.sk-parallel-item:last-child::after {align-self: flex-start;width: 50%;}#sk-container-id-19 div.sk-parallel-item:only-child::after {width: 0;}#sk-container-id-19 div.sk-dashed-wrapped {border: 1px dashed gray;margin: 0 0.4em 0.5em 0.4em;box-sizing: border-box;padding-bottom: 0.4em;background-color: white;}#sk-container-id-19 div.sk-label label {font-family: monospace;font-weight: bold;display: inline-block;line-height: 1.2em;}#sk-container-id-19 div.sk-label-container {text-align: center;}#sk-container-id-19 div.sk-container {/* jupyter's `normalize.less` sets `[hidden] { display: none; }` but bootstrap.min.css set `[hidden] { display: none !important; }` so we also need the `!important` here to be able to override the default hidden behavior on the sphinx rendered scikit-learn.org. See: https://github.com/scikit-learn/scikit-learn/issues/21755 */display: inline-block !important;position: relative;}#sk-container-id-19 div.sk-text-repr-fallback {display: none;}</style><div id=\"sk-container-id-19\" class=\"sk-top-container\"><div class=\"sk-text-repr-fallback\"><pre>DecisionTreeClassifier()</pre><b>In a Jupyter environment, please rerun this cell to show the HTML representation or trust the notebook. <br />On GitHub, the HTML representation is unable to render, please try loading this page with nbviewer.org.</b></div><div class=\"sk-container\" hidden><div class=\"sk-item\"><div class=\"sk-estimator sk-toggleable\"><input class=\"sk-toggleable__control sk-hidden--visually\" id=\"sk-estimator-id-19\" type=\"checkbox\" checked><label for=\"sk-estimator-id-19\" class=\"sk-toggleable__label sk-toggleable__label-arrow\">DecisionTreeClassifier</label><div class=\"sk-toggleable__content\"><pre>DecisionTreeClassifier()</pre></div></div></div></div></div>"
      ],
      "text/plain": [
       "DecisionTreeClassifier()"
      ]
     },
     "execution_count": 604,
     "metadata": {},
     "output_type": "execute_result"
    },
    {
     "name": "stdout",
     "output_type": "stream",
     "text": [
      "Accuracy:  98.26166514181153\n"
     ]
    },
    {
     "data": {
      "text/html": [
       "<div>\n",
       "<style scoped>\n",
       "    .dataframe tbody tr th:only-of-type {\n",
       "        vertical-align: middle;\n",
       "    }\n",
       "\n",
       "    .dataframe tbody tr th {\n",
       "        vertical-align: top;\n",
       "    }\n",
       "\n",
       "    .dataframe thead th {\n",
       "        text-align: right;\n",
       "    }\n",
       "</style>\n",
       "<table border=\"1\" class=\"dataframe\">\n",
       "  <thead>\n",
       "    <tr style=\"text-align: right;\">\n",
       "      <th></th>\n",
       "      <th>Actual</th>\n",
       "      <th>Predicted</th>\n",
       "    </tr>\n",
       "  </thead>\n",
       "  <tbody>\n",
       "    <tr>\n",
       "      <th>2014</th>\n",
       "      <td>0</td>\n",
       "      <td>0</td>\n",
       "    </tr>\n",
       "    <tr>\n",
       "      <th>457</th>\n",
       "      <td>0</td>\n",
       "      <td>0</td>\n",
       "    </tr>\n",
       "    <tr>\n",
       "      <th>478</th>\n",
       "      <td>0</td>\n",
       "      <td>0</td>\n",
       "    </tr>\n",
       "    <tr>\n",
       "      <th>438</th>\n",
       "      <td>0</td>\n",
       "      <td>0</td>\n",
       "    </tr>\n",
       "    <tr>\n",
       "      <th>3728</th>\n",
       "      <td>1</td>\n",
       "      <td>1</td>\n",
       "    </tr>\n",
       "  </tbody>\n",
       "</table>\n",
       "</div>"
      ],
      "text/plain": [
       "      Actual  Predicted\n",
       "2014       0          0\n",
       "457        0          0\n",
       "478        0          0\n",
       "438        0          0\n",
       "3728       1          1"
      ]
     },
     "execution_count": 604,
     "metadata": {},
     "output_type": "execute_result"
    }
   ],
   "source": [
    "from sklearn.tree import DecisionTreeClassifier\n",
    "classifier = DecisionTreeClassifier()\n",
    "classifier.fit(X_train_transformed, y_train)\n",
    "\n",
    "# Prediction\n",
    "y_test_pred = classifier.predict(X_test_transformed)\n",
    "\n",
    "# Evaluation of prediction\n",
    "Accuracy_DT = metrics.accuracy_score(y_test, y_test_pred)\n",
    "print('Accuracy: ',Accuracy_DT*100 )\n",
    "\n",
    "\n",
    "# Randomly checking wheather model predicted the correct classification or not\n",
    "temp_df = pd.DataFrame({'Actual': y_test, 'Predicted': y_test_pred})\n",
    "temp_df.head()"
   ]
  },
  {
   "cell_type": "markdown",
   "id": "8dabc960",
   "metadata": {
    "ExecuteTime": {
     "end_time": "2023-09-14T12:06:13.803956Z",
     "start_time": "2023-09-14T12:06:13.794943Z"
    }
   },
   "source": [
    "### Training - Logistic Regression"
   ]
  },
  {
   "cell_type": "code",
   "execution_count": 605,
   "id": "c5a2c7fe",
   "metadata": {
    "ExecuteTime": {
     "end_time": "2023-09-14T12:08:36.388457Z",
     "start_time": "2023-09-14T12:08:36.332370Z"
    }
   },
   "outputs": [
    {
     "data": {
      "text/html": [
       "<style>#sk-container-id-20 {color: black;background-color: white;}#sk-container-id-20 pre{padding: 0;}#sk-container-id-20 div.sk-toggleable {background-color: white;}#sk-container-id-20 label.sk-toggleable__label {cursor: pointer;display: block;width: 100%;margin-bottom: 0;padding: 0.3em;box-sizing: border-box;text-align: center;}#sk-container-id-20 label.sk-toggleable__label-arrow:before {content: \"▸\";float: left;margin-right: 0.25em;color: #696969;}#sk-container-id-20 label.sk-toggleable__label-arrow:hover:before {color: black;}#sk-container-id-20 div.sk-estimator:hover label.sk-toggleable__label-arrow:before {color: black;}#sk-container-id-20 div.sk-toggleable__content {max-height: 0;max-width: 0;overflow: hidden;text-align: left;background-color: #f0f8ff;}#sk-container-id-20 div.sk-toggleable__content pre {margin: 0.2em;color: black;border-radius: 0.25em;background-color: #f0f8ff;}#sk-container-id-20 input.sk-toggleable__control:checked~div.sk-toggleable__content {max-height: 200px;max-width: 100%;overflow: auto;}#sk-container-id-20 input.sk-toggleable__control:checked~label.sk-toggleable__label-arrow:before {content: \"▾\";}#sk-container-id-20 div.sk-estimator input.sk-toggleable__control:checked~label.sk-toggleable__label {background-color: #d4ebff;}#sk-container-id-20 div.sk-label input.sk-toggleable__control:checked~label.sk-toggleable__label {background-color: #d4ebff;}#sk-container-id-20 input.sk-hidden--visually {border: 0;clip: rect(1px 1px 1px 1px);clip: rect(1px, 1px, 1px, 1px);height: 1px;margin: -1px;overflow: hidden;padding: 0;position: absolute;width: 1px;}#sk-container-id-20 div.sk-estimator {font-family: monospace;background-color: #f0f8ff;border: 1px dotted black;border-radius: 0.25em;box-sizing: border-box;margin-bottom: 0.5em;}#sk-container-id-20 div.sk-estimator:hover {background-color: #d4ebff;}#sk-container-id-20 div.sk-parallel-item::after {content: \"\";width: 100%;border-bottom: 1px solid gray;flex-grow: 1;}#sk-container-id-20 div.sk-label:hover label.sk-toggleable__label {background-color: #d4ebff;}#sk-container-id-20 div.sk-serial::before {content: \"\";position: absolute;border-left: 1px solid gray;box-sizing: border-box;top: 0;bottom: 0;left: 50%;z-index: 0;}#sk-container-id-20 div.sk-serial {display: flex;flex-direction: column;align-items: center;background-color: white;padding-right: 0.2em;padding-left: 0.2em;position: relative;}#sk-container-id-20 div.sk-item {position: relative;z-index: 1;}#sk-container-id-20 div.sk-parallel {display: flex;align-items: stretch;justify-content: center;background-color: white;position: relative;}#sk-container-id-20 div.sk-item::before, #sk-container-id-20 div.sk-parallel-item::before {content: \"\";position: absolute;border-left: 1px solid gray;box-sizing: border-box;top: 0;bottom: 0;left: 50%;z-index: -1;}#sk-container-id-20 div.sk-parallel-item {display: flex;flex-direction: column;z-index: 1;position: relative;background-color: white;}#sk-container-id-20 div.sk-parallel-item:first-child::after {align-self: flex-end;width: 50%;}#sk-container-id-20 div.sk-parallel-item:last-child::after {align-self: flex-start;width: 50%;}#sk-container-id-20 div.sk-parallel-item:only-child::after {width: 0;}#sk-container-id-20 div.sk-dashed-wrapped {border: 1px dashed gray;margin: 0 0.4em 0.5em 0.4em;box-sizing: border-box;padding-bottom: 0.4em;background-color: white;}#sk-container-id-20 div.sk-label label {font-family: monospace;font-weight: bold;display: inline-block;line-height: 1.2em;}#sk-container-id-20 div.sk-label-container {text-align: center;}#sk-container-id-20 div.sk-container {/* jupyter's `normalize.less` sets `[hidden] { display: none; }` but bootstrap.min.css set `[hidden] { display: none !important; }` so we also need the `!important` here to be able to override the default hidden behavior on the sphinx rendered scikit-learn.org. See: https://github.com/scikit-learn/scikit-learn/issues/21755 */display: inline-block !important;position: relative;}#sk-container-id-20 div.sk-text-repr-fallback {display: none;}</style><div id=\"sk-container-id-20\" class=\"sk-top-container\"><div class=\"sk-text-repr-fallback\"><pre>LogisticRegression()</pre><b>In a Jupyter environment, please rerun this cell to show the HTML representation or trust the notebook. <br />On GitHub, the HTML representation is unable to render, please try loading this page with nbviewer.org.</b></div><div class=\"sk-container\" hidden><div class=\"sk-item\"><div class=\"sk-estimator sk-toggleable\"><input class=\"sk-toggleable__control sk-hidden--visually\" id=\"sk-estimator-id-20\" type=\"checkbox\" checked><label for=\"sk-estimator-id-20\" class=\"sk-toggleable__label sk-toggleable__label-arrow\">LogisticRegression</label><div class=\"sk-toggleable__content\"><pre>LogisticRegression()</pre></div></div></div></div></div>"
      ],
      "text/plain": [
       "LogisticRegression()"
      ]
     },
     "execution_count": 605,
     "metadata": {},
     "output_type": "execute_result"
    },
    {
     "name": "stdout",
     "output_type": "stream",
     "text": [
      "Accuracy:  99.81701738334858\n"
     ]
    },
    {
     "data": {
      "text/html": [
       "<div>\n",
       "<style scoped>\n",
       "    .dataframe tbody tr th:only-of-type {\n",
       "        vertical-align: middle;\n",
       "    }\n",
       "\n",
       "    .dataframe tbody tr th {\n",
       "        vertical-align: top;\n",
       "    }\n",
       "\n",
       "    .dataframe thead th {\n",
       "        text-align: right;\n",
       "    }\n",
       "</style>\n",
       "<table border=\"1\" class=\"dataframe\">\n",
       "  <thead>\n",
       "    <tr style=\"text-align: right;\">\n",
       "      <th></th>\n",
       "      <th>Actual</th>\n",
       "      <th>Predicted</th>\n",
       "    </tr>\n",
       "  </thead>\n",
       "  <tbody>\n",
       "    <tr>\n",
       "      <th>2014</th>\n",
       "      <td>0</td>\n",
       "      <td>0</td>\n",
       "    </tr>\n",
       "    <tr>\n",
       "      <th>457</th>\n",
       "      <td>0</td>\n",
       "      <td>0</td>\n",
       "    </tr>\n",
       "    <tr>\n",
       "      <th>478</th>\n",
       "      <td>0</td>\n",
       "      <td>0</td>\n",
       "    </tr>\n",
       "    <tr>\n",
       "      <th>438</th>\n",
       "      <td>0</td>\n",
       "      <td>0</td>\n",
       "    </tr>\n",
       "    <tr>\n",
       "      <th>3728</th>\n",
       "      <td>1</td>\n",
       "      <td>1</td>\n",
       "    </tr>\n",
       "  </tbody>\n",
       "</table>\n",
       "</div>"
      ],
      "text/plain": [
       "      Actual  Predicted\n",
       "2014       0          0\n",
       "457        0          0\n",
       "478        0          0\n",
       "438        0          0\n",
       "3728       1          1"
      ]
     },
     "execution_count": 605,
     "metadata": {},
     "output_type": "execute_result"
    }
   ],
   "source": [
    "from sklearn.linear_model import LogisticRegression\n",
    "classifier = LogisticRegression()\n",
    "classifier.fit(X_train_transformed, y_train)\n",
    "\n",
    "# Prediction\n",
    "y_test_pred = classifier.predict(X_test_transformed)\n",
    "\n",
    "# Evaluation of prediction\n",
    "Accuracy_LR = metrics.accuracy_score(y_test, y_test_pred)\n",
    "print('Accuracy: ',Accuracy_LR*100 )\n",
    "\n",
    "\n",
    "# Randomly checking wheather model predicted the correct classification or not\n",
    "temp_df = pd.DataFrame({'Actual': y_test, 'Predicted': y_test_pred})\n",
    "temp_df.head()"
   ]
  },
  {
   "cell_type": "markdown",
   "id": "0dce345d",
   "metadata": {},
   "source": [
    "### Training - Ramdom Forest Classifier"
   ]
  },
  {
   "cell_type": "code",
   "execution_count": 606,
   "id": "c874f8a8",
   "metadata": {
    "ExecuteTime": {
     "end_time": "2023-09-14T12:08:40.116103Z",
     "start_time": "2023-09-14T12:08:39.480439Z"
    }
   },
   "outputs": [
    {
     "data": {
      "text/html": [
       "<style>#sk-container-id-21 {color: black;background-color: white;}#sk-container-id-21 pre{padding: 0;}#sk-container-id-21 div.sk-toggleable {background-color: white;}#sk-container-id-21 label.sk-toggleable__label {cursor: pointer;display: block;width: 100%;margin-bottom: 0;padding: 0.3em;box-sizing: border-box;text-align: center;}#sk-container-id-21 label.sk-toggleable__label-arrow:before {content: \"▸\";float: left;margin-right: 0.25em;color: #696969;}#sk-container-id-21 label.sk-toggleable__label-arrow:hover:before {color: black;}#sk-container-id-21 div.sk-estimator:hover label.sk-toggleable__label-arrow:before {color: black;}#sk-container-id-21 div.sk-toggleable__content {max-height: 0;max-width: 0;overflow: hidden;text-align: left;background-color: #f0f8ff;}#sk-container-id-21 div.sk-toggleable__content pre {margin: 0.2em;color: black;border-radius: 0.25em;background-color: #f0f8ff;}#sk-container-id-21 input.sk-toggleable__control:checked~div.sk-toggleable__content {max-height: 200px;max-width: 100%;overflow: auto;}#sk-container-id-21 input.sk-toggleable__control:checked~label.sk-toggleable__label-arrow:before {content: \"▾\";}#sk-container-id-21 div.sk-estimator input.sk-toggleable__control:checked~label.sk-toggleable__label {background-color: #d4ebff;}#sk-container-id-21 div.sk-label input.sk-toggleable__control:checked~label.sk-toggleable__label {background-color: #d4ebff;}#sk-container-id-21 input.sk-hidden--visually {border: 0;clip: rect(1px 1px 1px 1px);clip: rect(1px, 1px, 1px, 1px);height: 1px;margin: -1px;overflow: hidden;padding: 0;position: absolute;width: 1px;}#sk-container-id-21 div.sk-estimator {font-family: monospace;background-color: #f0f8ff;border: 1px dotted black;border-radius: 0.25em;box-sizing: border-box;margin-bottom: 0.5em;}#sk-container-id-21 div.sk-estimator:hover {background-color: #d4ebff;}#sk-container-id-21 div.sk-parallel-item::after {content: \"\";width: 100%;border-bottom: 1px solid gray;flex-grow: 1;}#sk-container-id-21 div.sk-label:hover label.sk-toggleable__label {background-color: #d4ebff;}#sk-container-id-21 div.sk-serial::before {content: \"\";position: absolute;border-left: 1px solid gray;box-sizing: border-box;top: 0;bottom: 0;left: 50%;z-index: 0;}#sk-container-id-21 div.sk-serial {display: flex;flex-direction: column;align-items: center;background-color: white;padding-right: 0.2em;padding-left: 0.2em;position: relative;}#sk-container-id-21 div.sk-item {position: relative;z-index: 1;}#sk-container-id-21 div.sk-parallel {display: flex;align-items: stretch;justify-content: center;background-color: white;position: relative;}#sk-container-id-21 div.sk-item::before, #sk-container-id-21 div.sk-parallel-item::before {content: \"\";position: absolute;border-left: 1px solid gray;box-sizing: border-box;top: 0;bottom: 0;left: 50%;z-index: -1;}#sk-container-id-21 div.sk-parallel-item {display: flex;flex-direction: column;z-index: 1;position: relative;background-color: white;}#sk-container-id-21 div.sk-parallel-item:first-child::after {align-self: flex-end;width: 50%;}#sk-container-id-21 div.sk-parallel-item:last-child::after {align-self: flex-start;width: 50%;}#sk-container-id-21 div.sk-parallel-item:only-child::after {width: 0;}#sk-container-id-21 div.sk-dashed-wrapped {border: 1px dashed gray;margin: 0 0.4em 0.5em 0.4em;box-sizing: border-box;padding-bottom: 0.4em;background-color: white;}#sk-container-id-21 div.sk-label label {font-family: monospace;font-weight: bold;display: inline-block;line-height: 1.2em;}#sk-container-id-21 div.sk-label-container {text-align: center;}#sk-container-id-21 div.sk-container {/* jupyter's `normalize.less` sets `[hidden] { display: none; }` but bootstrap.min.css set `[hidden] { display: none !important; }` so we also need the `!important` here to be able to override the default hidden behavior on the sphinx rendered scikit-learn.org. See: https://github.com/scikit-learn/scikit-learn/issues/21755 */display: inline-block !important;position: relative;}#sk-container-id-21 div.sk-text-repr-fallback {display: none;}</style><div id=\"sk-container-id-21\" class=\"sk-top-container\"><div class=\"sk-text-repr-fallback\"><pre>RandomForestClassifier()</pre><b>In a Jupyter environment, please rerun this cell to show the HTML representation or trust the notebook. <br />On GitHub, the HTML representation is unable to render, please try loading this page with nbviewer.org.</b></div><div class=\"sk-container\" hidden><div class=\"sk-item\"><div class=\"sk-estimator sk-toggleable\"><input class=\"sk-toggleable__control sk-hidden--visually\" id=\"sk-estimator-id-21\" type=\"checkbox\" checked><label for=\"sk-estimator-id-21\" class=\"sk-toggleable__label sk-toggleable__label-arrow\">RandomForestClassifier</label><div class=\"sk-toggleable__content\"><pre>RandomForestClassifier()</pre></div></div></div></div></div>"
      ],
      "text/plain": [
       "RandomForestClassifier()"
      ]
     },
     "execution_count": 606,
     "metadata": {},
     "output_type": "execute_result"
    },
    {
     "name": "stdout",
     "output_type": "stream",
     "text": [
      "Accuracy:  98.81061299176578\n"
     ]
    },
    {
     "data": {
      "text/html": [
       "<div>\n",
       "<style scoped>\n",
       "    .dataframe tbody tr th:only-of-type {\n",
       "        vertical-align: middle;\n",
       "    }\n",
       "\n",
       "    .dataframe tbody tr th {\n",
       "        vertical-align: top;\n",
       "    }\n",
       "\n",
       "    .dataframe thead th {\n",
       "        text-align: right;\n",
       "    }\n",
       "</style>\n",
       "<table border=\"1\" class=\"dataframe\">\n",
       "  <thead>\n",
       "    <tr style=\"text-align: right;\">\n",
       "      <th></th>\n",
       "      <th>Actual</th>\n",
       "      <th>Predicted</th>\n",
       "    </tr>\n",
       "  </thead>\n",
       "  <tbody>\n",
       "    <tr>\n",
       "      <th>2014</th>\n",
       "      <td>0</td>\n",
       "      <td>0</td>\n",
       "    </tr>\n",
       "    <tr>\n",
       "      <th>457</th>\n",
       "      <td>0</td>\n",
       "      <td>0</td>\n",
       "    </tr>\n",
       "    <tr>\n",
       "      <th>478</th>\n",
       "      <td>0</td>\n",
       "      <td>0</td>\n",
       "    </tr>\n",
       "    <tr>\n",
       "      <th>438</th>\n",
       "      <td>0</td>\n",
       "      <td>0</td>\n",
       "    </tr>\n",
       "    <tr>\n",
       "      <th>3728</th>\n",
       "      <td>1</td>\n",
       "      <td>1</td>\n",
       "    </tr>\n",
       "  </tbody>\n",
       "</table>\n",
       "</div>"
      ],
      "text/plain": [
       "      Actual  Predicted\n",
       "2014       0          0\n",
       "457        0          0\n",
       "478        0          0\n",
       "438        0          0\n",
       "3728       1          1"
      ]
     },
     "execution_count": 606,
     "metadata": {},
     "output_type": "execute_result"
    }
   ],
   "source": [
    "from sklearn.ensemble import RandomForestClassifier\n",
    "classifier = RandomForestClassifier()\n",
    "classifier.fit(X_train_transformed, y_train)\n",
    "\n",
    "# Prediction\n",
    "y_test_pred = classifier.predict(X_test_transformed)\n",
    "\n",
    "# Evaluation of prediction\n",
    "Accuracy_RFC = metrics.accuracy_score(y_test, y_test_pred)\n",
    "print('Accuracy: ',Accuracy_RFC*100 )\n",
    "\n",
    "\n",
    "# Randomly checking wheather model predicted the correct classification or not\n",
    "temp_df = pd.DataFrame({'Actual': y_test, 'Predicted': y_test_pred})\n",
    "temp_df.head()"
   ]
  },
  {
   "cell_type": "code",
   "execution_count": 609,
   "id": "4a5a0166",
   "metadata": {
    "ExecuteTime": {
     "end_time": "2023-09-14T12:10:19.377421Z",
     "start_time": "2023-09-14T12:10:19.360393Z"
    }
   },
   "outputs": [
    {
     "data": {
      "text/html": [
       "<div>\n",
       "<style scoped>\n",
       "    .dataframe tbody tr th:only-of-type {\n",
       "        vertical-align: middle;\n",
       "    }\n",
       "\n",
       "    .dataframe tbody tr th {\n",
       "        vertical-align: top;\n",
       "    }\n",
       "\n",
       "    .dataframe thead th {\n",
       "        text-align: right;\n",
       "    }\n",
       "</style>\n",
       "<table border=\"1\" class=\"dataframe\">\n",
       "  <thead>\n",
       "    <tr style=\"text-align: right;\">\n",
       "      <th></th>\n",
       "      <th>Algorithm</th>\n",
       "      <th>Accuracy_score</th>\n",
       "    </tr>\n",
       "  </thead>\n",
       "  <tbody>\n",
       "    <tr>\n",
       "      <th>0</th>\n",
       "      <td>Logistic Regression</td>\n",
       "      <td>0.998170</td>\n",
       "    </tr>\n",
       "    <tr>\n",
       "      <th>1</th>\n",
       "      <td>Decision Tree Classifier</td>\n",
       "      <td>0.982617</td>\n",
       "    </tr>\n",
       "    <tr>\n",
       "      <th>2</th>\n",
       "      <td>Random Forest Classifier</td>\n",
       "      <td>0.988106</td>\n",
       "    </tr>\n",
       "  </tbody>\n",
       "</table>\n",
       "</div>"
      ],
      "text/plain": [
       "                   Algorithm  Accuracy_score\n",
       "0        Logistic Regression        0.998170\n",
       "1   Decision Tree Classifier        0.982617\n",
       "2  Random Forest Classifier         0.988106"
      ]
     },
     "execution_count": 609,
     "metadata": {},
     "output_type": "execute_result"
    }
   ],
   "source": [
    "df_data = [['Logistic Regression', Accuracy_LR],\n",
    "                   ['Decision Tree Classifier', Accuracy_DT],\n",
    "                   ['Random Forest Classifier ',Accuracy_RFC]]\n",
    "\n",
    "data = pd.DataFrame(df_data, columns = ['Algorithm','Accuracy_score'])\n",
    "data"
   ]
  },
  {
   "cell_type": "code",
   "execution_count": 611,
   "id": "886ee105",
   "metadata": {
    "ExecuteTime": {
     "end_time": "2023-09-14T12:11:03.960664Z",
     "start_time": "2023-09-14T12:11:03.555444Z"
    }
   },
   "outputs": [
    {
     "data": {
      "text/plain": [
       "<Axes: xlabel='Accuracy_score', ylabel='Algorithm'>"
      ]
     },
     "execution_count": 611,
     "metadata": {},
     "output_type": "execute_result"
    },
    {
     "data": {
      "image/png": "[encoded data removed]",
      "text/plain": [
       "<Figure size 640x480 with 1 Axes>"
      ]
     },
     "metadata": {},
     "output_type": "display_data"
    }
   ],
   "source": [
    "sns.barplot(y=data.Algorithm, x = data.Accuracy_score)"
   ]
  },
  {
   "cell_type": "markdown",
   "id": "9f667c1a",
   "metadata": {},
   "source": [
    "### Observation: \n",
    "\n",
    "- By Observing the above table we can say that Logistic Regression or Random forest Classifier are the best algorithm for this data.\n",
    "- Logistic Regression and Random Forest Classifiers's Accuracy is approximately similar."
   ]
  },
  {
   "cell_type": "code",
   "execution_count": null,
   "id": "05854f1c",
   "metadata": {
    "ExecuteTime": {
     "end_time": "2023-11-15T08:25:46.622890Z",
     "start_time": "2023-11-15T08:25:46.608868Z"
    }
   },
   "outputs": [],
   "source": []
  },
  {
   "cell_type": "code",
   "execution_count": null,
   "id": "19f08a30",
   "metadata": {
    "ExecuteTime": {
     "end_time": "2023-11-15T08:26:06.083860Z",
     "start_time": "2023-11-15T08:26:06.066835Z"
    }
   },
   "outputs": [],
   "source": []
  },
  {
   "cell_type": "code",
   "execution_count": null,
   "id": "f0a6e427",
   "metadata": {},
   "outputs": [],
   "source": []
  }
 ],
 "metadata": {
  "kernelspec": {
   "display_name": "Python 3 (ipykernel)",
   "language": "python",
   "name": "python3"
  },
  "language_info": {
   "codemirror_mode": {
    "name": "ipython",
    "version": 3
   },
   "file_extension": ".py",
   "mimetype": "text/x-python",
   "name": "python",
   "nbconvert_exporter": "python",
   "pygments_lexer": "ipython3",
   "version": "3.9.12"
  }
 },
 "nbformat": 4,
 "nbformat_minor": 5
}
